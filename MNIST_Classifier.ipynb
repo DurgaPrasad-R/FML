{
  "cells": [
    {
      "cell_type": "markdown",
      "metadata": {
        "id": "view-in-github",
        "colab_type": "text"
      },
      "source": [
        "<a href=\"https://colab.research.google.com/github/DurgaPrasad-R/FML/blob/main/MNIST_Classifier.ipynb\" target=\"_parent\"><img src=\"https://colab.research.google.com/assets/colab-badge.svg\" alt=\"Open In Colab\"/></a>"
      ]
    },
    {
      "cell_type": "code",
      "execution_count": 1,
      "metadata": {
        "colab": {
          "base_uri": "https://localhost:8080/"
        },
        "id": "ddPjRxd4HoEA",
        "outputId": "45baa2be-45d3-4a83-866b-6e1ec4b69633"
      },
      "outputs": [
        {
          "output_type": "stream",
          "name": "stdout",
          "text": [
            "Downloading http://yann.lecun.com/exdb/mnist/train-images-idx3-ubyte.gz\n",
            "Downloading http://yann.lecun.com/exdb/mnist/train-images-idx3-ubyte.gz to ./data/MNIST/raw/train-images-idx3-ubyte.gz\n"
          ]
        },
        {
          "output_type": "stream",
          "name": "stderr",
          "text": [
            "100%|██████████| 9912422/9912422 [00:00<00:00, 78769178.04it/s]\n"
          ]
        },
        {
          "output_type": "stream",
          "name": "stdout",
          "text": [
            "Extracting ./data/MNIST/raw/train-images-idx3-ubyte.gz to ./data/MNIST/raw\n",
            "\n",
            "Downloading http://yann.lecun.com/exdb/mnist/train-labels-idx1-ubyte.gz\n",
            "Downloading http://yann.lecun.com/exdb/mnist/train-labels-idx1-ubyte.gz to ./data/MNIST/raw/train-labels-idx1-ubyte.gz\n"
          ]
        },
        {
          "output_type": "stream",
          "name": "stderr",
          "text": [
            "100%|██████████| 28881/28881 [00:00<00:00, 18004710.73it/s]\n"
          ]
        },
        {
          "output_type": "stream",
          "name": "stdout",
          "text": [
            "Extracting ./data/MNIST/raw/train-labels-idx1-ubyte.gz to ./data/MNIST/raw\n",
            "\n",
            "Downloading http://yann.lecun.com/exdb/mnist/t10k-images-idx3-ubyte.gz\n",
            "Downloading http://yann.lecun.com/exdb/mnist/t10k-images-idx3-ubyte.gz to ./data/MNIST/raw/t10k-images-idx3-ubyte.gz\n"
          ]
        },
        {
          "output_type": "stream",
          "name": "stderr",
          "text": [
            "100%|██████████| 1648877/1648877 [00:00<00:00, 25122842.30it/s]\n"
          ]
        },
        {
          "output_type": "stream",
          "name": "stdout",
          "text": [
            "Extracting ./data/MNIST/raw/t10k-images-idx3-ubyte.gz to ./data/MNIST/raw\n",
            "\n",
            "Downloading http://yann.lecun.com/exdb/mnist/t10k-labels-idx1-ubyte.gz\n",
            "Downloading http://yann.lecun.com/exdb/mnist/t10k-labels-idx1-ubyte.gz to ./data/MNIST/raw/t10k-labels-idx1-ubyte.gz\n"
          ]
        },
        {
          "output_type": "stream",
          "name": "stderr",
          "text": [
            "100%|██████████| 4542/4542 [00:00<00:00, 11602027.26it/s]"
          ]
        },
        {
          "output_type": "stream",
          "name": "stdout",
          "text": [
            "Extracting ./data/MNIST/raw/t10k-labels-idx1-ubyte.gz to ./data/MNIST/raw\n",
            "\n"
          ]
        },
        {
          "output_type": "stream",
          "name": "stderr",
          "text": [
            "\n"
          ]
        },
        {
          "output_type": "stream",
          "name": "stdout",
          "text": [
            "Epoch 1/15 - Train Loss: 0.2936, Train Acc: 91.22%, Test Loss: 0.1519, Test Acc: 95.26%\n",
            "Actual Labels: ['1 - one', '2 - two', '3 - three', '4 - four', '5 - five', '6 - six', '7 - seven', '8 - eight', '9 - nine', '0 - zero', '1 - one', '2 - two', '3 - three', '4 - four', '5 - five', '6 - six']\n",
            "Predicted Labels: ['1 - one', '2 - two', '3 - three', '4 - four', '5 - five', '6 - six', '7 - seven', '8 - eight', '9 - nine', '0 - zero', '1 - one', '2 - two', '3 - three', '4 - four', '5 - five', '6 - six']\n",
            "Epoch 2/15 - Train Loss: 0.1146, Train Acc: 96.60%, Test Loss: 0.1055, Test Acc: 96.53%\n",
            "Actual Labels: ['1 - one', '2 - two', '3 - three', '4 - four', '5 - five', '6 - six', '7 - seven', '8 - eight', '9 - nine', '0 - zero', '1 - one', '2 - two', '3 - three', '4 - four', '5 - five', '6 - six']\n",
            "Predicted Labels: ['1 - one', '2 - two', '3 - three', '4 - four', '5 - five', '6 - six', '7 - seven', '8 - eight', '9 - nine', '0 - zero', '1 - one', '2 - two', '3 - three', '4 - four', '5 - five', '6 - six']\n",
            "Epoch 3/15 - Train Loss: 0.0725, Train Acc: 97.81%, Test Loss: 0.0853, Test Acc: 97.25%\n",
            "Actual Labels: ['1 - one', '2 - two', '3 - three', '4 - four', '5 - five', '6 - six', '7 - seven', '8 - eight', '9 - nine', '0 - zero', '1 - one', '2 - two', '3 - three', '4 - four', '5 - five', '6 - six']\n",
            "Predicted Labels: ['1 - one', '2 - two', '3 - three', '4 - four', '5 - five', '6 - six', '7 - seven', '8 - eight', '9 - nine', '0 - zero', '1 - one', '2 - two', '3 - three', '4 - four', '5 - five', '6 - six']\n",
            "Epoch 4/15 - Train Loss: 0.0487, Train Acc: 98.56%, Test Loss: 0.0763, Test Acc: 97.57%\n",
            "Actual Labels: ['1 - one', '2 - two', '3 - three', '4 - four', '5 - five', '6 - six', '7 - seven', '8 - eight', '9 - nine', '0 - zero', '1 - one', '2 - two', '3 - three', '4 - four', '5 - five', '6 - six']\n",
            "Predicted Labels: ['1 - one', '2 - two', '3 - three', '4 - four', '5 - five', '6 - six', '7 - seven', '8 - eight', '9 - nine', '0 - zero', '1 - one', '2 - two', '3 - three', '4 - four', '5 - five', '6 - six']\n",
            "Epoch 5/15 - Train Loss: 0.0337, Train Acc: 99.07%, Test Loss: 0.0795, Test Acc: 97.55%\n",
            "Actual Labels: ['1 - one', '2 - two', '3 - three', '4 - four', '5 - five', '6 - six', '7 - seven', '8 - eight', '9 - nine', '0 - zero', '1 - one', '2 - two', '3 - three', '4 - four', '5 - five', '6 - six']\n",
            "Predicted Labels: ['1 - one', '2 - two', '3 - three', '4 - four', '5 - five', '6 - six', '7 - seven', '8 - eight', '9 - nine', '0 - zero', '1 - one', '2 - two', '3 - three', '4 - four', '5 - five', '6 - six']\n",
            "Epoch 6/15 - Train Loss: 0.0229, Train Acc: 99.43%, Test Loss: 0.1043, Test Acc: 96.91%\n",
            "Actual Labels: ['1 - one', '2 - two', '3 - three', '4 - four', '5 - five', '6 - six', '7 - seven', '8 - eight', '9 - nine', '0 - zero', '1 - one', '2 - two', '3 - three', '4 - four', '5 - five', '6 - six']\n",
            "Predicted Labels: ['1 - one', '2 - two', '3 - three', '4 - four', '5 - five', '6 - six', '7 - seven', '8 - eight', '9 - nine', '0 - zero', '1 - one', '2 - two', '3 - three', '4 - four', '5 - five', '6 - six']\n",
            "Epoch 7/15 - Train Loss: 0.0152, Train Acc: 99.68%, Test Loss: 0.0803, Test Acc: 97.70%\n",
            "Actual Labels: ['1 - one', '2 - two', '3 - three', '4 - four', '5 - five', '6 - six', '7 - seven', '8 - eight', '9 - nine', '0 - zero', '1 - one', '2 - two', '3 - three', '4 - four', '5 - five', '6 - six']\n",
            "Predicted Labels: ['1 - one', '2 - two', '3 - three', '4 - four', '5 - five', '6 - six', '7 - seven', '8 - eight', '9 - nine', '0 - zero', '1 - one', '2 - two', '3 - three', '4 - four', '5 - five', '6 - six']\n",
            "Epoch 8/15 - Train Loss: 0.0111, Train Acc: 99.80%, Test Loss: 0.0916, Test Acc: 97.53%\n",
            "Actual Labels: ['1 - one', '2 - two', '3 - three', '4 - four', '5 - five', '6 - six', '7 - seven', '8 - eight', '9 - nine', '0 - zero', '1 - one', '2 - two', '3 - three', '4 - four', '5 - five', '6 - six']\n",
            "Predicted Labels: ['1 - one', '2 - two', '3 - three', '4 - four', '5 - five', '6 - six', '7 - seven', '8 - eight', '9 - nine', '0 - zero', '1 - one', '2 - two', '3 - three', '4 - four', '5 - five', '6 - six']\n",
            "Epoch 9/15 - Train Loss: 0.0092, Train Acc: 99.82%, Test Loss: 0.0806, Test Acc: 97.79%\n",
            "Actual Labels: ['1 - one', '2 - two', '3 - three', '4 - four', '5 - five', '6 - six', '7 - seven', '8 - eight', '9 - nine', '0 - zero', '1 - one', '2 - two', '3 - three', '4 - four', '5 - five', '6 - six']\n",
            "Predicted Labels: ['1 - one', '2 - two', '3 - three', '4 - four', '5 - five', '6 - six', '7 - seven', '8 - eight', '9 - nine', '0 - zero', '1 - one', '2 - two', '3 - three', '4 - four', '5 - five', '6 - six']\n",
            "Epoch 10/15 - Train Loss: 0.0069, Train Acc: 99.86%, Test Loss: 0.0732, Test Acc: 97.96%\n",
            "Actual Labels: ['1 - one', '2 - two', '3 - three', '4 - four', '5 - five', '6 - six', '7 - seven', '8 - eight', '9 - nine', '0 - zero', '1 - one', '2 - two', '3 - three', '4 - four', '5 - five', '6 - six']\n",
            "Predicted Labels: ['1 - one', '2 - two', '3 - three', '4 - four', '5 - five', '6 - six', '7 - seven', '8 - eight', '9 - nine', '0 - zero', '1 - one', '2 - two', '3 - three', '4 - four', '5 - five', '6 - six']\n",
            "Epoch 11/15 - Train Loss: 0.0050, Train Acc: 99.92%, Test Loss: 0.0712, Test Acc: 98.07%\n",
            "Actual Labels: ['1 - one', '2 - two', '3 - three', '4 - four', '5 - five', '6 - six', '7 - seven', '8 - eight', '9 - nine', '0 - zero', '1 - one', '2 - two', '3 - three', '4 - four', '5 - five', '6 - six']\n",
            "Predicted Labels: ['1 - one', '2 - two', '3 - three', '4 - four', '5 - five', '6 - six', '7 - seven', '8 - eight', '9 - nine', '0 - zero', '1 - one', '2 - two', '3 - three', '4 - four', '5 - five', '6 - six']\n",
            "Epoch 12/15 - Train Loss: 0.0031, Train Acc: 99.97%, Test Loss: 0.0741, Test Acc: 98.03%\n",
            "Actual Labels: ['1 - one', '2 - two', '3 - three', '4 - four', '5 - five', '6 - six', '7 - seven', '8 - eight', '9 - nine', '0 - zero', '1 - one', '2 - two', '3 - three', '4 - four', '5 - five', '6 - six']\n",
            "Predicted Labels: ['1 - one', '2 - two', '3 - three', '4 - four', '5 - five', '6 - six', '7 - seven', '8 - eight', '9 - nine', '0 - zero', '1 - one', '2 - two', '3 - three', '4 - four', '5 - five', '6 - six']\n",
            "Epoch 13/15 - Train Loss: 0.0022, Train Acc: 99.98%, Test Loss: 0.0722, Test Acc: 98.16%\n",
            "Actual Labels: ['1 - one', '2 - two', '3 - three', '4 - four', '5 - five', '6 - six', '7 - seven', '8 - eight', '9 - nine', '0 - zero', '1 - one', '2 - two', '3 - three', '4 - four', '5 - five', '6 - six']\n",
            "Predicted Labels: ['1 - one', '2 - two', '3 - three', '4 - four', '5 - five', '6 - six', '7 - seven', '8 - eight', '9 - nine', '0 - zero', '1 - one', '2 - two', '3 - three', '4 - four', '5 - five', '6 - six']\n",
            "Epoch 14/15 - Train Loss: 0.0015, Train Acc: 99.99%, Test Loss: 0.0730, Test Acc: 98.21%\n",
            "Actual Labels: ['1 - one', '2 - two', '3 - three', '4 - four', '5 - five', '6 - six', '7 - seven', '8 - eight', '9 - nine', '0 - zero', '1 - one', '2 - two', '3 - three', '4 - four', '5 - five', '6 - six']\n",
            "Predicted Labels: ['1 - one', '2 - two', '3 - three', '4 - four', '5 - five', '6 - six', '7 - seven', '8 - eight', '9 - nine', '0 - zero', '1 - one', '2 - two', '3 - three', '4 - four', '5 - five', '6 - six']\n",
            "Epoch 15/15 - Train Loss: 0.0010, Train Acc: 100.00%, Test Loss: 0.0736, Test Acc: 98.24%\n",
            "Actual Labels: ['1 - one', '2 - two', '3 - three', '4 - four', '5 - five', '6 - six', '7 - seven', '8 - eight', '9 - nine', '0 - zero', '1 - one', '2 - two', '3 - three', '4 - four', '5 - five', '6 - six']\n",
            "Predicted Labels: ['1 - one', '2 - two', '3 - three', '4 - four', '5 - five', '6 - six', '7 - seven', '8 - eight', '9 - nine', '0 - zero', '1 - one', '2 - two', '3 - three', '4 - four', '5 - five', '6 - six']\n"
          ]
        }
      ],
      "source": [
        "import torch\n",
        "import torchvision\n",
        "import torch.nn as nn\n",
        "import torch.optim as optim\n",
        "from torch.utils.data import DataLoader\n",
        "from torchvision.transforms import ToTensor, Normalize\n",
        "from torch.optim.lr_scheduler import CosineAnnealingLR\n",
        "import numpy as np\n",
        "import random\n",
        "# Define the neural network architecture\n",
        "model = nn.Sequential(\n",
        "    nn.Linear(784, 512),\n",
        "    nn.ReLU(),\n",
        "    nn.Linear(512, 256),\n",
        "    nn.ReLU(),\n",
        "    nn.Linear(256, 128),\n",
        "    nn.ReLU(),\n",
        "    nn.Linear(128, 10),\n",
        "    nn.LogSoftmax(dim=1)\n",
        ")\n",
        "# Initialize weights using Kaiming initialization\n",
        "for module in model.modules():\n",
        "    if isinstance(module, nn.Linear):\n",
        "        nn.init.kaiming_uniform_(module.weight, nonlinearity='relu')\n",
        "# Define the loss function and optimizer\n",
        "criterion = nn.NLLLoss()\n",
        "optimizer = optim.SGD(model.parameters(), lr=0.01, momentum = 0.9);\n",
        "\n",
        "\n",
        "# Define the learning rate scheduler\n",
        "# scheduler = optim.lr_scheduler.ReduceLROnPlateau(optimizer, mode='min', factor=0.1, patience=5)\n",
        "scheduler = optim.lr_scheduler.StepLR(optimizer, step_size=5, gamma=0.1)\n",
        "# scheduler = CosineAnnealingLR(optimizer, T_max=100, eta_min=0)\n",
        "\n",
        "# Define the normalization transform\n",
        "transform = torchvision.transforms.Compose([ToTensor(), Normalize((0.5,), (0.5,))])\n",
        "\n",
        "# Load the MNIST dataset and create data loaders\n",
        "torch.manual_seed(123)\n",
        "np.random.seed(123)\n",
        "\n",
        "train_data = torchvision.datasets.MNIST(root='./data', train=True, transform=ToTensor(), download=True)\n",
        "train_loader = DataLoader(train_data, batch_size=64, shuffle=False)\n",
        "\n",
        "test_data = torchvision.datasets.MNIST(root='./data', train=False, transform=ToTensor(), download=True)\n",
        "test_loader = DataLoader(test_data, batch_size=64, shuffle=False)\n",
        "\n",
        "# Train the model for several epochs\n",
        "\n",
        "num_epoch = 15;\n",
        "for epoch in range(num_epoch):\n",
        "    # Train the model on the training data\n",
        "    train_loss = 0.0\n",
        "    train_correct = 0\n",
        "    train_total = 0\n",
        "    model.train()  # switch to train mode\n",
        "    for inputs, labels in train_loader:\n",
        "        # Flatten the input images\n",
        "        inputs = inputs.view(inputs.shape[0], -1)\n",
        "        # Zero the gradients\n",
        "        optimizer.zero_grad()\n",
        "        # Forward pass\n",
        "        outputs = model(inputs)\n",
        "        # Compute the loss\n",
        "        loss = criterion(outputs, labels)\n",
        "        # Backward pass\n",
        "        loss.backward()\n",
        "        # Update the weights\n",
        "        optimizer.step()\n",
        "        # Keep track of the loss and accuracy\n",
        "        train_loss += loss.item() * inputs.size(0)\n",
        "        _, predicted = torch.max(outputs.data, 1)\n",
        "        train_total += labels.size(0)\n",
        "        train_correct += (predicted == labels).sum().item()\n",
        "        \n",
        "    train_loss /= len(train_loader.dataset)\n",
        "    train_accuracy = 100.0 * train_correct / train_total\n",
        "    \n",
        "    # Evaluate the model on the test data\n",
        "    test_loss = 0.0\n",
        "    test_correct = 0\n",
        "    test_total = 0\n",
        "    model.eval()  # switch to eval mode\n",
        "    with torch.no_grad():\n",
        "        for inputs, labels in test_loader:\n",
        "            # Flatten the input images\n",
        "            inputs = inputs.view(inputs.shape[0], -1)\n",
        "            # Forward pass\n",
        "            outputs = model(inputs)\n",
        "            # Compute the loss\n",
        "            loss = criterion(outputs, labels)\n",
        "            # Keep track of the loss and accuracy\n",
        "            test_loss += loss.item() * inputs.size(0)\n",
        "            _, predicted = torch.max(outputs.data, 1)\n",
        "            predicted_labels = [test_data.classes[i] for i in predicted]\n",
        "            actual_labels = [test_data.classes[i] for i in labels]\n",
        "            test_total += labels.size(0)\n",
        "            test_correct += (predicted == labels).sum().item()\n",
        "    \n",
        "    test_loss /= len(test_loader.dataset)\n",
        "    test_accuracy = 100.0 * test_correct / test_total\n",
        "    \n",
        "    # Print the loss and accuracy for this epoch\n",
        "    print(f\"Epoch {epoch+1}/{15} - Train Loss: {train_loss:.4f}, Train Acc: {train_accuracy:.2f}%, Test Loss: {test_loss:.4f}, Test Acc: {test_accuracy:.2f}%\")\n",
        "    print(\"Actual Labels:\", actual_labels)\n",
        "    print(\"Predicted Labels:\", predicted_labels)\n"
      ]
    }
  ],
  "metadata": {
    "colab": {
      "provenance": [],
      "include_colab_link": true
    },
    "kernelspec": {
      "display_name": "Python 3",
      "name": "python3"
    },
    "language_info": {
      "name": "python"
    }
  },
  "nbformat": 4,
  "nbformat_minor": 0
}