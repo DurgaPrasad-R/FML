{
  "nbformat": 4,
  "nbformat_minor": 0,
  "metadata": {
    "colab": {
      "provenance": [],
      "mount_file_id": "1lzwVtlOG8hkc9oeROaaNFGoDl7UtiJD6",
      "authorship_tag": "ABX9TyOWHH0FgSnw93Y8NSfSqCQg",
      "include_colab_link": true
    },
    "kernelspec": {
      "name": "python3",
      "display_name": "Python 3"
    },
    "language_info": {
      "name": "python"
    }
  },
  "cells": [
    {
      "cell_type": "markdown",
      "metadata": {
        "id": "view-in-github",
        "colab_type": "text"
      },
      "source": [
        "<a href=\"https://colab.research.google.com/github/DurgaPrasad-R/FML/blob/main/Regression_on_Company_dataset.ipynb\" target=\"_parent\"><img src=\"https://colab.research.google.com/assets/colab-badge.svg\" alt=\"Open In Colab\"/></a>"
      ]
    },
    {
      "cell_type": "code",
      "execution_count": 117,
      "metadata": {
        "id": "2zcuNbWY_9VX"
      },
      "outputs": [],
      "source": [
        "# importing all the modules required"
        "import pandas as pd\n",
        "import numpy as np\n",
        "import seaborn as sns\n",
        "import matplotlib.pyplot as plt"
      ]
    },
    {
      "cell_type": "code",
      "source": [
        "# Loading the data"
        "company = pd.read_csv('/content/drive/MyDrive/Datasets/Company_data.csv')"
      ],
      "metadata": {
        "id": "qqpRwf2tAmpd"
      },
      "execution_count": 118,
      "outputs": []
    },
    {
      "cell_type": "markdown",
      "source": [
        "***Company dataset that contains information about advertisements of products on different platforms and their sales.***"
      ],
      "metadata": {
        "id": "huBmjao4DLHL"
      }
    },
    {
      "cell_type": "code",
      "source": [
        "company.columns"
      ],
      "metadata": {
        "colab": {
          "base_uri": "https://localhost:8080/"
        },
        "id": "2i02KdYdAsNq",
        "outputId": "146881da-89d7-4c97-84e7-7152924c0673"
      },
      "execution_count": 119,
      "outputs": [
        {
          "output_type": "execute_result",
          "data": {
            "text/plain": [
              "Index(['TV', 'Radio', 'Newspaper', 'Sales'], dtype='object')"
            ]
          },
          "metadata": {},
          "execution_count": 119
        }
      ]
    },
    {
      "cell_type": "code",
      "source": [
        "company.dtypes"
      ],
      "metadata": {
        "colab": {
          "base_uri": "https://localhost:8080/"
        },
        "id": "i-144s1SA2m6",
        "outputId": "618a6a73-f8b1-41a8-aa12-f2a60b91c7c1"
      },
      "execution_count": 120,
      "outputs": [
        {
          "output_type": "execute_result",
          "data": {
            "text/plain": [
              "TV           float64\n",
              "Radio        float64\n",
              "Newspaper    float64\n",
              "Sales        float64\n",
              "dtype: object"
            ]
          },
          "metadata": {},
          "execution_count": 120
        }
      ]
    },
    {
      "cell_type": "code",
      "source": [
        "company.shape"
      ],
      "metadata": {
        "colab": {
          "base_uri": "https://localhost:8080/"
        },
        "id": "ENh5B1CEA_7k",
        "outputId": "67588353-ee2e-42f9-ecf3-27f761b44c42"
      },
      "execution_count": 121,
      "outputs": [
        {
          "output_type": "execute_result",
          "data": {
            "text/plain": [
              "(200, 4)"
            ]
          },
          "metadata": {},
          "execution_count": 121
        }
      ]
    },
    {
      "cell_type": "code",
      "source": [
        "company.info()"
      ],
      "metadata": {
        "colab": {
          "base_uri": "https://localhost:8080/"
        },
        "id": "oCgmQuaRA6L7",
        "outputId": "465e2817-a173-430f-fa49-2cd17db7c62d"
      },
      "execution_count": 122,
      "outputs": [
        {
          "output_type": "stream",
          "name": "stdout",
          "text": [
            "<class 'pandas.core.frame.DataFrame'>\n",
            "RangeIndex: 200 entries, 0 to 199\n",
            "Data columns (total 4 columns):\n",
            " #   Column     Non-Null Count  Dtype  \n",
            "---  ------     --------------  -----  \n",
            " 0   TV         200 non-null    float64\n",
            " 1   Radio      200 non-null    float64\n",
            " 2   Newspaper  200 non-null    float64\n",
            " 3   Sales      200 non-null    float64\n",
            "dtypes: float64(4)\n",
            "memory usage: 6.4 KB\n"
          ]
        }
      ]
    },
    {
      "cell_type": "code",
      "source": [
        "company.isnull().sum()"
      ],
      "metadata": {
        "colab": {
          "base_uri": "https://localhost:8080/"
        },
        "id": "1lCOboLOA9AT",
        "outputId": "032cbb57-67d1-49c6-b877-d37f9e73189e"
      },
      "execution_count": 123,
      "outputs": [
        {
          "output_type": "execute_result",
          "data": {
            "text/plain": [
              "TV           0\n",
              "Radio        0\n",
              "Newspaper    0\n",
              "Sales        0\n",
              "dtype: int64"
            ]
          },
          "metadata": {},
          "execution_count": 123
        }
      ]
    },
    {
      "cell_type": "code",
      "source": [
        "company.head()"
      ],
      "metadata": {
        "colab": {
          "base_uri": "https://localhost:8080/",
          "height": 204
        },
        "id": "9MPaGHzaBJIg",
        "outputId": "317bc680-23b9-43d1-f041-4cfec2784acd"
      },
      "execution_count": 124,
      "outputs": [
        {
          "output_type": "execute_result",
          "data": {
            "text/plain": [
              "      TV  Radio  Newspaper  Sales\n",
              "0  230.1   37.8       69.2   22.1\n",
              "1   44.5   39.3       45.1   10.4\n",
              "2   17.2   45.9       69.3   12.0\n",
              "3  151.5   41.3       58.5   16.5\n",
              "4  180.8   10.8       58.4   17.9"
            ],
            "text/html": [
              "\n",
              "  <div id=\"df-ef4063ee-33d5-4ac2-af48-5f1dca4685f0\">\n",
              "    <div class=\"colab-df-container\">\n",
              "      <div>\n",
              "<style scoped>\n",
              "    .dataframe tbody tr th:only-of-type {\n",
              "        vertical-align: middle;\n",
              "    }\n",
              "\n",
              "    .dataframe tbody tr th {\n",
              "        vertical-align: top;\n",
              "    }\n",
              "\n",
              "    .dataframe thead th {\n",
              "        text-align: right;\n",
              "    }\n",
              "</style>\n",
              "<table border=\"1\" class=\"dataframe\">\n",
              "  <thead>\n",
              "    <tr style=\"text-align: right;\">\n",
              "      <th></th>\n",
              "      <th>TV</th>\n",
              "      <th>Radio</th>\n",
              "      <th>Newspaper</th>\n",
              "      <th>Sales</th>\n",
              "    </tr>\n",
              "  </thead>\n",
              "  <tbody>\n",
              "    <tr>\n",
              "      <th>0</th>\n",
              "      <td>230.1</td>\n",
              "      <td>37.8</td>\n",
              "      <td>69.2</td>\n",
              "      <td>22.1</td>\n",
              "    </tr>\n",
              "    <tr>\n",
              "      <th>1</th>\n",
              "      <td>44.5</td>\n",
              "      <td>39.3</td>\n",
              "      <td>45.1</td>\n",
              "      <td>10.4</td>\n",
              "    </tr>\n",
              "    <tr>\n",
              "      <th>2</th>\n",
              "      <td>17.2</td>\n",
              "      <td>45.9</td>\n",
              "      <td>69.3</td>\n",
              "      <td>12.0</td>\n",
              "    </tr>\n",
              "    <tr>\n",
              "      <th>3</th>\n",
              "      <td>151.5</td>\n",
              "      <td>41.3</td>\n",
              "      <td>58.5</td>\n",
              "      <td>16.5</td>\n",
              "    </tr>\n",
              "    <tr>\n",
              "      <th>4</th>\n",
              "      <td>180.8</td>\n",
              "      <td>10.8</td>\n",
              "      <td>58.4</td>\n",
              "      <td>17.9</td>\n",
              "    </tr>\n",
              "  </tbody>\n",
              "</table>\n",
              "</div>\n",
              "      <button class=\"colab-df-convert\" onclick=\"convertToInteractive('df-ef4063ee-33d5-4ac2-af48-5f1dca4685f0')\"\n",
              "              title=\"Convert this dataframe to an interactive table.\"\n",
              "              style=\"display:none;\">\n",
              "        \n",
              "  <svg xmlns=\"http://www.w3.org/2000/svg\" height=\"24px\"viewBox=\"0 0 24 24\"\n",
              "       width=\"24px\">\n",
              "    <path d=\"M0 0h24v24H0V0z\" fill=\"none\"/>\n",
              "    <path d=\"M18.56 5.44l.94 2.06.94-2.06 2.06-.94-2.06-.94-.94-2.06-.94 2.06-2.06.94zm-11 1L8.5 8.5l.94-2.06 2.06-.94-2.06-.94L8.5 2.5l-.94 2.06-2.06.94zm10 10l.94 2.06.94-2.06 2.06-.94-2.06-.94-.94-2.06-.94 2.06-2.06.94z\"/><path d=\"M17.41 7.96l-1.37-1.37c-.4-.4-.92-.59-1.43-.59-.52 0-1.04.2-1.43.59L10.3 9.45l-7.72 7.72c-.78.78-.78 2.05 0 2.83L4 21.41c.39.39.9.59 1.41.59.51 0 1.02-.2 1.41-.59l7.78-7.78 2.81-2.81c.8-.78.8-2.07 0-2.86zM5.41 20L4 18.59l7.72-7.72 1.47 1.35L5.41 20z\"/>\n",
              "  </svg>\n",
              "      </button>\n",
              "      \n",
              "  <style>\n",
              "    .colab-df-container {\n",
              "      display:flex;\n",
              "      flex-wrap:wrap;\n",
              "      gap: 12px;\n",
              "    }\n",
              "\n",
              "    .colab-df-convert {\n",
              "      background-color: #E8F0FE;\n",
              "      border: none;\n",
              "      border-radius: 50%;\n",
              "      cursor: pointer;\n",
              "      display: none;\n",
              "      fill: #1967D2;\n",
              "      height: 32px;\n",
              "      padding: 0 0 0 0;\n",
              "      width: 32px;\n",
              "    }\n",
              "\n",
              "    .colab-df-convert:hover {\n",
              "      background-color: #E2EBFA;\n",
              "      box-shadow: 0px 1px 2px rgba(60, 64, 67, 0.3), 0px 1px 3px 1px rgba(60, 64, 67, 0.15);\n",
              "      fill: #174EA6;\n",
              "    }\n",
              "\n",
              "    [theme=dark] .colab-df-convert {\n",
              "      background-color: #3B4455;\n",
              "      fill: #D2E3FC;\n",
              "    }\n",
              "\n",
              "    [theme=dark] .colab-df-convert:hover {\n",
              "      background-color: #434B5C;\n",
              "      box-shadow: 0px 1px 3px 1px rgba(0, 0, 0, 0.15);\n",
              "      filter: drop-shadow(0px 1px 2px rgba(0, 0, 0, 0.3));\n",
              "      fill: #FFFFFF;\n",
              "    }\n",
              "  </style>\n",
              "\n",
              "      <script>\n",
              "        const buttonEl =\n",
              "          document.querySelector('#df-ef4063ee-33d5-4ac2-af48-5f1dca4685f0 button.colab-df-convert');\n",
              "        buttonEl.style.display =\n",
              "          google.colab.kernel.accessAllowed ? 'block' : 'none';\n",
              "\n",
              "        async function convertToInteractive(key) {\n",
              "          const element = document.querySelector('#df-ef4063ee-33d5-4ac2-af48-5f1dca4685f0');\n",
              "          const dataTable =\n",
              "            await google.colab.kernel.invokeFunction('convertToInteractive',\n",
              "                                                     [key], {});\n",
              "          if (!dataTable) return;\n",
              "\n",
              "          const docLinkHtml = 'Like what you see? Visit the ' +\n",
              "            '<a target=\"_blank\" href=https://colab.research.google.com/notebooks/data_table.ipynb>data table notebook</a>'\n",
              "            + ' to learn more about interactive tables.';\n",
              "          element.innerHTML = '';\n",
              "          dataTable['output_type'] = 'display_data';\n",
              "          await google.colab.output.renderOutput(dataTable, element);\n",
              "          const docLink = document.createElement('div');\n",
              "          docLink.innerHTML = docLinkHtml;\n",
              "          element.appendChild(docLink);\n",
              "        }\n",
              "      </script>\n",
              "    </div>\n",
              "  </div>\n",
              "  "
            ]
          },
          "metadata": {},
          "execution_count": 124
        }
      ]
    },
    {
      "cell_type": "code",
      "source": [
        "company.tail()"
      ],
      "metadata": {
        "colab": {
          "base_uri": "https://localhost:8080/",
          "height": 204
        },
        "id": "YI7UqOS2BSvV",
        "outputId": "f5a56766-7093-4a6c-e711-c767e3908812"
      },
      "execution_count": 125,
      "outputs": [
        {
          "output_type": "execute_result",
          "data": {
            "text/plain": [
              "        TV  Radio  Newspaper  Sales\n",
              "195   38.2    3.7       13.8    7.6\n",
              "196   94.2    4.9        8.1   14.0\n",
              "197  177.0    9.3        6.4   14.8\n",
              "198  283.6   42.0       66.2   25.5\n",
              "199  232.1    8.6        8.7   18.4"
            ],
            "text/html": [
              "\n",
              "  <div id=\"df-feb3525e-1a8a-45a2-a3b3-5fffeb581bf6\">\n",
              "    <div class=\"colab-df-container\">\n",
              "      <div>\n",
              "<style scoped>\n",
              "    .dataframe tbody tr th:only-of-type {\n",
              "        vertical-align: middle;\n",
              "    }\n",
              "\n",
              "    .dataframe tbody tr th {\n",
              "        vertical-align: top;\n",
              "    }\n",
              "\n",
              "    .dataframe thead th {\n",
              "        text-align: right;\n",
              "    }\n",
              "</style>\n",
              "<table border=\"1\" class=\"dataframe\">\n",
              "  <thead>\n",
              "    <tr style=\"text-align: right;\">\n",
              "      <th></th>\n",
              "      <th>TV</th>\n",
              "      <th>Radio</th>\n",
              "      <th>Newspaper</th>\n",
              "      <th>Sales</th>\n",
              "    </tr>\n",
              "  </thead>\n",
              "  <tbody>\n",
              "    <tr>\n",
              "      <th>195</th>\n",
              "      <td>38.2</td>\n",
              "      <td>3.7</td>\n",
              "      <td>13.8</td>\n",
              "      <td>7.6</td>\n",
              "    </tr>\n",
              "    <tr>\n",
              "      <th>196</th>\n",
              "      <td>94.2</td>\n",
              "      <td>4.9</td>\n",
              "      <td>8.1</td>\n",
              "      <td>14.0</td>\n",
              "    </tr>\n",
              "    <tr>\n",
              "      <th>197</th>\n",
              "      <td>177.0</td>\n",
              "      <td>9.3</td>\n",
              "      <td>6.4</td>\n",
              "      <td>14.8</td>\n",
              "    </tr>\n",
              "    <tr>\n",
              "      <th>198</th>\n",
              "      <td>283.6</td>\n",
              "      <td>42.0</td>\n",
              "      <td>66.2</td>\n",
              "      <td>25.5</td>\n",
              "    </tr>\n",
              "    <tr>\n",
              "      <th>199</th>\n",
              "      <td>232.1</td>\n",
              "      <td>8.6</td>\n",
              "      <td>8.7</td>\n",
              "      <td>18.4</td>\n",
              "    </tr>\n",
              "  </tbody>\n",
              "</table>\n",
              "</div>\n",
              "      <button class=\"colab-df-convert\" onclick=\"convertToInteractive('df-feb3525e-1a8a-45a2-a3b3-5fffeb581bf6')\"\n",
              "              title=\"Convert this dataframe to an interactive table.\"\n",
              "              style=\"display:none;\">\n",
              "        \n",
              "  <svg xmlns=\"http://www.w3.org/2000/svg\" height=\"24px\"viewBox=\"0 0 24 24\"\n",
              "       width=\"24px\">\n",
              "    <path d=\"M0 0h24v24H0V0z\" fill=\"none\"/>\n",
              "    <path d=\"M18.56 5.44l.94 2.06.94-2.06 2.06-.94-2.06-.94-.94-2.06-.94 2.06-2.06.94zm-11 1L8.5 8.5l.94-2.06 2.06-.94-2.06-.94L8.5 2.5l-.94 2.06-2.06.94zm10 10l.94 2.06.94-2.06 2.06-.94-2.06-.94-.94-2.06-.94 2.06-2.06.94z\"/><path d=\"M17.41 7.96l-1.37-1.37c-.4-.4-.92-.59-1.43-.59-.52 0-1.04.2-1.43.59L10.3 9.45l-7.72 7.72c-.78.78-.78 2.05 0 2.83L4 21.41c.39.39.9.59 1.41.59.51 0 1.02-.2 1.41-.59l7.78-7.78 2.81-2.81c.8-.78.8-2.07 0-2.86zM5.41 20L4 18.59l7.72-7.72 1.47 1.35L5.41 20z\"/>\n",
              "  </svg>\n",
              "      </button>\n",
              "      \n",
              "  <style>\n",
              "    .colab-df-container {\n",
              "      display:flex;\n",
              "      flex-wrap:wrap;\n",
              "      gap: 12px;\n",
              "    }\n",
              "\n",
              "    .colab-df-convert {\n",
              "      background-color: #E8F0FE;\n",
              "      border: none;\n",
              "      border-radius: 50%;\n",
              "      cursor: pointer;\n",
              "      display: none;\n",
              "      fill: #1967D2;\n",
              "      height: 32px;\n",
              "      padding: 0 0 0 0;\n",
              "      width: 32px;\n",
              "    }\n",
              "\n",
              "    .colab-df-convert:hover {\n",
              "      background-color: #E2EBFA;\n",
              "      box-shadow: 0px 1px 2px rgba(60, 64, 67, 0.3), 0px 1px 3px 1px rgba(60, 64, 67, 0.15);\n",
              "      fill: #174EA6;\n",
              "    }\n",
              "\n",
              "    [theme=dark] .colab-df-convert {\n",
              "      background-color: #3B4455;\n",
              "      fill: #D2E3FC;\n",
              "    }\n",
              "\n",
              "    [theme=dark] .colab-df-convert:hover {\n",
              "      background-color: #434B5C;\n",
              "      box-shadow: 0px 1px 3px 1px rgba(0, 0, 0, 0.15);\n",
              "      filter: drop-shadow(0px 1px 2px rgba(0, 0, 0, 0.3));\n",
              "      fill: #FFFFFF;\n",
              "    }\n",
              "  </style>\n",
              "\n",
              "      <script>\n",
              "        const buttonEl =\n",
              "          document.querySelector('#df-feb3525e-1a8a-45a2-a3b3-5fffeb581bf6 button.colab-df-convert');\n",
              "        buttonEl.style.display =\n",
              "          google.colab.kernel.accessAllowed ? 'block' : 'none';\n",
              "\n",
              "        async function convertToInteractive(key) {\n",
              "          const element = document.querySelector('#df-feb3525e-1a8a-45a2-a3b3-5fffeb581bf6');\n",
              "          const dataTable =\n",
              "            await google.colab.kernel.invokeFunction('convertToInteractive',\n",
              "                                                     [key], {});\n",
              "          if (!dataTable) return;\n",
              "\n",
              "          const docLinkHtml = 'Like what you see? Visit the ' +\n",
              "            '<a target=\"_blank\" href=https://colab.research.google.com/notebooks/data_table.ipynb>data table notebook</a>'\n",
              "            + ' to learn more about interactive tables.';\n",
              "          element.innerHTML = '';\n",
              "          dataTable['output_type'] = 'display_data';\n",
              "          await google.colab.output.renderOutput(dataTable, element);\n",
              "          const docLink = document.createElement('div');\n",
              "          docLink.innerHTML = docLinkHtml;\n",
              "          element.appendChild(docLink);\n",
              "        }\n",
              "      </script>\n",
              "    </div>\n",
              "  </div>\n",
              "  "
            ]
          },
          "metadata": {},
          "execution_count": 125
        }
      ]
    },
    {
      "cell_type": "code",
      "source": [
        "company.describe()"
      ],
      "metadata": {
        "colab": {
          "base_uri": "https://localhost:8080/",
          "height": 297
        },
        "id": "bQBXx7omBygV",
        "outputId": "efe8bda7-608f-4adc-c577-1fcf354d9cc7"
      },
      "execution_count": 126,
      "outputs": [
        {
          "output_type": "execute_result",
          "data": {
            "text/plain": [
              "               TV       Radio   Newspaper       Sales\n",
              "count  200.000000  200.000000  200.000000  200.000000\n",
              "mean   147.042500   23.264000   30.554000   15.130500\n",
              "std     85.854236   14.846809   21.778621    5.283892\n",
              "min      0.700000    0.000000    0.300000    1.600000\n",
              "25%     74.375000    9.975000   12.750000   11.000000\n",
              "50%    149.750000   22.900000   25.750000   16.000000\n",
              "75%    218.825000   36.525000   45.100000   19.050000\n",
              "max    296.400000   49.600000  114.000000   27.000000"
            ],
            "text/html": [
              "\n",
              "  <div id=\"df-200a1974-2430-41a2-a68d-1c06aa598312\">\n",
              "    <div class=\"colab-df-container\">\n",
              "      <div>\n",
              "<style scoped>\n",
              "    .dataframe tbody tr th:only-of-type {\n",
              "        vertical-align: middle;\n",
              "    }\n",
              "\n",
              "    .dataframe tbody tr th {\n",
              "        vertical-align: top;\n",
              "    }\n",
              "\n",
              "    .dataframe thead th {\n",
              "        text-align: right;\n",
              "    }\n",
              "</style>\n",
              "<table border=\"1\" class=\"dataframe\">\n",
              "  <thead>\n",
              "    <tr style=\"text-align: right;\">\n",
              "      <th></th>\n",
              "      <th>TV</th>\n",
              "      <th>Radio</th>\n",
              "      <th>Newspaper</th>\n",
              "      <th>Sales</th>\n",
              "    </tr>\n",
              "  </thead>\n",
              "  <tbody>\n",
              "    <tr>\n",
              "      <th>count</th>\n",
              "      <td>200.000000</td>\n",
              "      <td>200.000000</td>\n",
              "      <td>200.000000</td>\n",
              "      <td>200.000000</td>\n",
              "    </tr>\n",
              "    <tr>\n",
              "      <th>mean</th>\n",
              "      <td>147.042500</td>\n",
              "      <td>23.264000</td>\n",
              "      <td>30.554000</td>\n",
              "      <td>15.130500</td>\n",
              "    </tr>\n",
              "    <tr>\n",
              "      <th>std</th>\n",
              "      <td>85.854236</td>\n",
              "      <td>14.846809</td>\n",
              "      <td>21.778621</td>\n",
              "      <td>5.283892</td>\n",
              "    </tr>\n",
              "    <tr>\n",
              "      <th>min</th>\n",
              "      <td>0.700000</td>\n",
              "      <td>0.000000</td>\n",
              "      <td>0.300000</td>\n",
              "      <td>1.600000</td>\n",
              "    </tr>\n",
              "    <tr>\n",
              "      <th>25%</th>\n",
              "      <td>74.375000</td>\n",
              "      <td>9.975000</td>\n",
              "      <td>12.750000</td>\n",
              "      <td>11.000000</td>\n",
              "    </tr>\n",
              "    <tr>\n",
              "      <th>50%</th>\n",
              "      <td>149.750000</td>\n",
              "      <td>22.900000</td>\n",
              "      <td>25.750000</td>\n",
              "      <td>16.000000</td>\n",
              "    </tr>\n",
              "    <tr>\n",
              "      <th>75%</th>\n",
              "      <td>218.825000</td>\n",
              "      <td>36.525000</td>\n",
              "      <td>45.100000</td>\n",
              "      <td>19.050000</td>\n",
              "    </tr>\n",
              "    <tr>\n",
              "      <th>max</th>\n",
              "      <td>296.400000</td>\n",
              "      <td>49.600000</td>\n",
              "      <td>114.000000</td>\n",
              "      <td>27.000000</td>\n",
              "    </tr>\n",
              "  </tbody>\n",
              "</table>\n",
              "</div>\n",
              "      <button class=\"colab-df-convert\" onclick=\"convertToInteractive('df-200a1974-2430-41a2-a68d-1c06aa598312')\"\n",
              "              title=\"Convert this dataframe to an interactive table.\"\n",
              "              style=\"display:none;\">\n",
              "        \n",
              "  <svg xmlns=\"http://www.w3.org/2000/svg\" height=\"24px\"viewBox=\"0 0 24 24\"\n",
              "       width=\"24px\">\n",
              "    <path d=\"M0 0h24v24H0V0z\" fill=\"none\"/>\n",
              "    <path d=\"M18.56 5.44l.94 2.06.94-2.06 2.06-.94-2.06-.94-.94-2.06-.94 2.06-2.06.94zm-11 1L8.5 8.5l.94-2.06 2.06-.94-2.06-.94L8.5 2.5l-.94 2.06-2.06.94zm10 10l.94 2.06.94-2.06 2.06-.94-2.06-.94-.94-2.06-.94 2.06-2.06.94z\"/><path d=\"M17.41 7.96l-1.37-1.37c-.4-.4-.92-.59-1.43-.59-.52 0-1.04.2-1.43.59L10.3 9.45l-7.72 7.72c-.78.78-.78 2.05 0 2.83L4 21.41c.39.39.9.59 1.41.59.51 0 1.02-.2 1.41-.59l7.78-7.78 2.81-2.81c.8-.78.8-2.07 0-2.86zM5.41 20L4 18.59l7.72-7.72 1.47 1.35L5.41 20z\"/>\n",
              "  </svg>\n",
              "      </button>\n",
              "      \n",
              "  <style>\n",
              "    .colab-df-container {\n",
              "      display:flex;\n",
              "      flex-wrap:wrap;\n",
              "      gap: 12px;\n",
              "    }\n",
              "\n",
              "    .colab-df-convert {\n",
              "      background-color: #E8F0FE;\n",
              "      border: none;\n",
              "      border-radius: 50%;\n",
              "      cursor: pointer;\n",
              "      display: none;\n",
              "      fill: #1967D2;\n",
              "      height: 32px;\n",
              "      padding: 0 0 0 0;\n",
              "      width: 32px;\n",
              "    }\n",
              "\n",
              "    .colab-df-convert:hover {\n",
              "      background-color: #E2EBFA;\n",
              "      box-shadow: 0px 1px 2px rgba(60, 64, 67, 0.3), 0px 1px 3px 1px rgba(60, 64, 67, 0.15);\n",
              "      fill: #174EA6;\n",
              "    }\n",
              "\n",
              "    [theme=dark] .colab-df-convert {\n",
              "      background-color: #3B4455;\n",
              "      fill: #D2E3FC;\n",
              "    }\n",
              "\n",
              "    [theme=dark] .colab-df-convert:hover {\n",
              "      background-color: #434B5C;\n",
              "      box-shadow: 0px 1px 3px 1px rgba(0, 0, 0, 0.15);\n",
              "      filter: drop-shadow(0px 1px 2px rgba(0, 0, 0, 0.3));\n",
              "      fill: #FFFFFF;\n",
              "    }\n",
              "  </style>\n",
              "\n",
              "      <script>\n",
              "        const buttonEl =\n",
              "          document.querySelector('#df-200a1974-2430-41a2-a68d-1c06aa598312 button.colab-df-convert');\n",
              "        buttonEl.style.display =\n",
              "          google.colab.kernel.accessAllowed ? 'block' : 'none';\n",
              "\n",
              "        async function convertToInteractive(key) {\n",
              "          const element = document.querySelector('#df-200a1974-2430-41a2-a68d-1c06aa598312');\n",
              "          const dataTable =\n",
              "            await google.colab.kernel.invokeFunction('convertToInteractive',\n",
              "                                                     [key], {});\n",
              "          if (!dataTable) return;\n",
              "\n",
              "          const docLinkHtml = 'Like what you see? Visit the ' +\n",
              "            '<a target=\"_blank\" href=https://colab.research.google.com/notebooks/data_table.ipynb>data table notebook</a>'\n",
              "            + ' to learn more about interactive tables.';\n",
              "          element.innerHTML = '';\n",
              "          dataTable['output_type'] = 'display_data';\n",
              "          await google.colab.output.renderOutput(dataTable, element);\n",
              "          const docLink = document.createElement('div');\n",
              "          docLink.innerHTML = docLinkHtml;\n",
              "          element.appendChild(docLink);\n",
              "        }\n",
              "      </script>\n",
              "    </div>\n",
              "  </div>\n",
              "  "
            ]
          },
          "metadata": {},
          "execution_count": 126
        }
      ]
    },
    {
      "cell_type": "code",
      "source": [
        "plt.figure(figsize=(10,10))\n",
        "sns.heatmap(company.corr(),annot=True)"
      ],
      "metadata": {
        "colab": {
          "base_uri": "https://localhost:8080/",
          "height": 613
        },
        "id": "NPAqr3PABXnW",
        "outputId": "afa7e92e-0d25-4675-b75b-ee07911878d2"
      },
      "execution_count": 127,
      "outputs": [
        {
          "output_type": "execute_result",
          "data": {
            "text/plain": [
              "<Axes: >"
            ]
          },
          "metadata": {},
          "execution_count": 127
        },
        {
          "output_type": "display_data",
          "data": {
            "text/plain": [
              "<Figure size 720x720 with 2 Axes>"
            ],
            "image/png": "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\n"
          },
          "metadata": {
            "needs_background": "light"
          }
        }
      ]
    },
    {
      "cell_type": "markdown",
      "source": [
        "***We see that advertisements given on TV and sales are highly correlated compared to others.***"
      ],
      "metadata": {
        "id": "585zjWatE15-"
      }
    },
    {
      "cell_type": "code",
      "source": [
        "# Storing the columns TV and sales to perform regression\n",
        "X = company.iloc[:,0]\n",
        "y = company.iloc[:,-1]"
      ],
      "metadata": {
        "id": "jc6dpl3lGEZW"
      },
      "execution_count": 128,
      "outputs": []
    },
    {
      "cell_type": "code",
      "source": [
        "# Splitting the data into training data and testing data\n",
        "from sklearn.model_selection import train_test_split\n",
        "X_train,X_test,y_train,y_test = train_test_split(X,y,test_size=0.30,random_state = 0)"
      ],
      "metadata": {
        "id": "bhKI2BwOErLo"
      },
      "execution_count": 129,
      "outputs": []
    },
    {
      "cell_type": "code",
      "source": [
        "#printing the shapes\n",
        "print(X_train.shape,X_test.shape)\n",
        "y_train.shape,y_test.shape"
      ],
      "metadata": {
        "colab": {
          "base_uri": "https://localhost:8080/"
        },
        "id": "zKnE_XMkHbGj",
        "outputId": "c2e10837-59dc-4c22-f6ed-725f35de5bdc"
      },
      "execution_count": 130,
      "outputs": [
        {
          "output_type": "stream",
          "name": "stdout",
          "text": [
            "(140,) (60,)\n"
          ]
        },
        {
          "output_type": "execute_result",
          "data": {
            "text/plain": [
              "((140,), (60,))"
            ]
          },
          "metadata": {},
          "execution_count": 130
        }
      ]
    },
    {
      "cell_type": "code",
      "source": [
        "# reshaping the data\n",
        "\n",
        "X_train = np.array(X_train)\n",
        "y_train = np.array(y_train)\n",
        "X_test = np.array(X_test)\n",
        "y_test = np.array(y_test)\n",
        "X_train = X_train.reshape(-1,1)\n",
        "y_train = y_train.reshape(-1,1)\n",
        "X_test = X_test.reshape(-1,1)\n",
        "y_test = y_test.reshape(-1,1)"
      ],
      "metadata": {
        "id": "SIPM8fSHHuD6"
      },
      "execution_count": 131,
      "outputs": []
    },
    {
      "cell_type": "code",
      "source": [
        "# Shapes after reshaping the data\n",
        "print(X_train.shape,X_test.shape)\n",
        "y_train.shape,y_test.shape"
      ],
      "metadata": {
        "colab": {
          "base_uri": "https://localhost:8080/"
        },
        "id": "nihXhxHrJHmf",
        "outputId": "2f03b3c8-4f3c-4731-efb6-25be1e441f9e"
      },
      "execution_count": 132,
      "outputs": [
        {
          "output_type": "stream",
          "name": "stdout",
          "text": [
            "(140, 1) (60, 1)\n"
          ]
        },
        {
          "output_type": "execute_result",
          "data": {
            "text/plain": [
              "((140, 1), (60, 1))"
            ]
          },
          "metadata": {},
          "execution_count": 132
        }
      ]
    },
    {
      "cell_type": "code",
      "source": [
        "#Fitting the model i.e making it learn\n",
        "from sklearn import linear_model\n",
        "\n",
        "reg = linear_model.LinearRegression()\n",
        "reg.fit(X_train,y_train)"
      ],
      "metadata": {
        "colab": {
          "base_uri": "https://localhost:8080/",
          "height": 74
        },
        "id": "R2EqeakLJLoi",
        "outputId": "fc54b891-2b00-41e3-841e-86b31c86b2b5"
      },
      "execution_count": 133,
      "outputs": [
        {
          "output_type": "execute_result",
          "data": {
            "text/plain": [
              "LinearRegression()"
            ],
            "text/html": [
              "<style>#sk-container-id-10 {color: black;background-color: white;}#sk-container-id-10 pre{padding: 0;}#sk-container-id-10 div.sk-toggleable {background-color: white;}#sk-container-id-10 label.sk-toggleable__label {cursor: pointer;display: block;width: 100%;margin-bottom: 0;padding: 0.3em;box-sizing: border-box;text-align: center;}#sk-container-id-10 label.sk-toggleable__label-arrow:before {content: \"▸\";float: left;margin-right: 0.25em;color: #696969;}#sk-container-id-10 label.sk-toggleable__label-arrow:hover:before {color: black;}#sk-container-id-10 div.sk-estimator:hover label.sk-toggleable__label-arrow:before {color: black;}#sk-container-id-10 div.sk-toggleable__content {max-height: 0;max-width: 0;overflow: hidden;text-align: left;background-color: #f0f8ff;}#sk-container-id-10 div.sk-toggleable__content pre {margin: 0.2em;color: black;border-radius: 0.25em;background-color: #f0f8ff;}#sk-container-id-10 input.sk-toggleable__control:checked~div.sk-toggleable__content {max-height: 200px;max-width: 100%;overflow: auto;}#sk-container-id-10 input.sk-toggleable__control:checked~label.sk-toggleable__label-arrow:before {content: \"▾\";}#sk-container-id-10 div.sk-estimator input.sk-toggleable__control:checked~label.sk-toggleable__label {background-color: #d4ebff;}#sk-container-id-10 div.sk-label input.sk-toggleable__control:checked~label.sk-toggleable__label {background-color: #d4ebff;}#sk-container-id-10 input.sk-hidden--visually {border: 0;clip: rect(1px 1px 1px 1px);clip: rect(1px, 1px, 1px, 1px);height: 1px;margin: -1px;overflow: hidden;padding: 0;position: absolute;width: 1px;}#sk-container-id-10 div.sk-estimator {font-family: monospace;background-color: #f0f8ff;border: 1px dotted black;border-radius: 0.25em;box-sizing: border-box;margin-bottom: 0.5em;}#sk-container-id-10 div.sk-estimator:hover {background-color: #d4ebff;}#sk-container-id-10 div.sk-parallel-item::after {content: \"\";width: 100%;border-bottom: 1px solid gray;flex-grow: 1;}#sk-container-id-10 div.sk-label:hover label.sk-toggleable__label {background-color: #d4ebff;}#sk-container-id-10 div.sk-serial::before {content: \"\";position: absolute;border-left: 1px solid gray;box-sizing: border-box;top: 0;bottom: 0;left: 50%;z-index: 0;}#sk-container-id-10 div.sk-serial {display: flex;flex-direction: column;align-items: center;background-color: white;padding-right: 0.2em;padding-left: 0.2em;position: relative;}#sk-container-id-10 div.sk-item {position: relative;z-index: 1;}#sk-container-id-10 div.sk-parallel {display: flex;align-items: stretch;justify-content: center;background-color: white;position: relative;}#sk-container-id-10 div.sk-item::before, #sk-container-id-10 div.sk-parallel-item::before {content: \"\";position: absolute;border-left: 1px solid gray;box-sizing: border-box;top: 0;bottom: 0;left: 50%;z-index: -1;}#sk-container-id-10 div.sk-parallel-item {display: flex;flex-direction: column;z-index: 1;position: relative;background-color: white;}#sk-container-id-10 div.sk-parallel-item:first-child::after {align-self: flex-end;width: 50%;}#sk-container-id-10 div.sk-parallel-item:last-child::after {align-self: flex-start;width: 50%;}#sk-container-id-10 div.sk-parallel-item:only-child::after {width: 0;}#sk-container-id-10 div.sk-dashed-wrapped {border: 1px dashed gray;margin: 0 0.4em 0.5em 0.4em;box-sizing: border-box;padding-bottom: 0.4em;background-color: white;}#sk-container-id-10 div.sk-label label {font-family: monospace;font-weight: bold;display: inline-block;line-height: 1.2em;}#sk-container-id-10 div.sk-label-container {text-align: center;}#sk-container-id-10 div.sk-container {/* jupyter's `normalize.less` sets `[hidden] { display: none; }` but bootstrap.min.css set `[hidden] { display: none !important; }` so we also need the `!important` here to be able to override the default hidden behavior on the sphinx rendered scikit-learn.org. See: https://github.com/scikit-learn/scikit-learn/issues/21755 */display: inline-block !important;position: relative;}#sk-container-id-10 div.sk-text-repr-fallback {display: none;}</style><div id=\"sk-container-id-10\" class=\"sk-top-container\"><div class=\"sk-text-repr-fallback\"><pre>LinearRegression()</pre><b>In a Jupyter environment, please rerun this cell to show the HTML representation or trust the notebook. <br />On GitHub, the HTML representation is unable to render, please try loading this page with nbviewer.org.</b></div><div class=\"sk-container\" hidden><div class=\"sk-item\"><div class=\"sk-estimator sk-toggleable\"><input class=\"sk-toggleable__control sk-hidden--visually\" id=\"sk-estimator-id-10\" type=\"checkbox\" checked><label for=\"sk-estimator-id-10\" class=\"sk-toggleable__label sk-toggleable__label-arrow\">LinearRegression</label><div class=\"sk-toggleable__content\"><pre>LinearRegression()</pre></div></div></div></div></div>"
            ]
          },
          "metadata": {},
          "execution_count": 133
        }
      ]
    },
    {
      "cell_type": "code",
      "source": [
        "#Performing evaluation metrics based on the training data\n",
        "from sklearn.metrics import mean_absolute_error,mean_squared_error,r2_score\n",
        "y_pred = reg.predict(X_train)\n",
        "print('Performance of the model based on training data:')\n",
        "print(f'MAE: {mean_absolute_error(y_train,y_pred)}')\n",
        "print(f'MSE: {mean_squared_error(y_train,y_pred)}')\n",
        "print(f'RMSE: {np.sqrt(mean_squared_error(y_train,y_pred))}')\n",
        "print(f'R2_Score: {r2_score(y_train,y_pred)}')"
      ],
      "metadata": {
        "colab": {
          "base_uri": "https://localhost:8080/"
        },
        "id": "-gR7rNGvJsh7",
        "outputId": "0c0376b7-f9f6-459e-8f5c-0cb595ebeeaf"
      },
      "execution_count": 134,
      "outputs": [
        {
          "output_type": "stream",
          "name": "stdout",
          "text": [
            "Performance of the model based on training data:\n",
            "MAE: 1.81882800711975\n",
            "MSE: 5.0779600089908765\n",
            "RMSE: 2.253432938649579\n",
            "R2_Score: 0.805941153711277\n"
          ]
        }
      ]
    },
    {
      "cell_type": "code",
      "source": [
        "# drawing a straight line for the predicted and actual outputs of training data\n",
        "\n",
        "plt.scatter(X_train, y_train, color='blue')\n",
        "plt.plot(X_train,y_pred,c='r',linestyle='solid')\n",
        "plt.show()"
      ],
      "metadata": {
        "colab": {
          "base_uri": "https://localhost:8080/",
          "height": 265
        },
        "id": "Sg7bfy2tMAnK",
        "outputId": "282f15cc-ee27-47b6-e397-04dfe9094c61"
      },
      "execution_count": 135,
      "outputs": [
        {
          "output_type": "display_data",
          "data": {
            "text/plain": [
              "<Figure size 432x288 with 1 Axes>"
            ],
            "image/png": "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\n"
          },
          "metadata": {
            "needs_background": "light"
          }
        }
      ]
    },
    {
      "cell_type": "code",
      "source": [
        "#Performing evaluation metrics based on the testing data\n",
        "from sklearn.metrics import mean_absolute_error,mean_squared_error,r2_score\n",
        "y_pred1 = reg.predict(X_test)\n",
        "print('Performance of the model based on testing data:')\n",
        "print(f'MAE: {mean_absolute_error(y_test,y_pred1)}')\n",
        "print(f'MSE: {mean_squared_error(y_test,y_pred1)}')\n",
        "print(f'RMSE: {np.sqrt(mean_squared_error(y_test,y_pred1))}')\n",
        "print(f'R2_Score: {r2_score(y_test,y_pred1)}')"
      ],
      "metadata": {
        "colab": {
          "base_uri": "https://localhost:8080/"
        },
        "id": "Uc1sV5KhMrPK",
        "outputId": "0ab336cd-34c5-4a9e-a881-2d940288b050"
      },
      "execution_count": 136,
      "outputs": [
        {
          "output_type": "stream",
          "name": "stdout",
          "text": [
            "Performance of the model based on testing data:\n",
            "MAE: 1.8639438916550555\n",
            "MSE: 5.569539193467241\n",
            "RMSE: 2.3599871172248466\n",
            "R2_Score: 0.8150168765722069\n"
          ]
        }
      ]
    },
    {
      "cell_type": "code",
      "source": [
        "# drawing a straight line for the predicted and actual outputs of testing data\n",
        "\n",
        "plt.scatter(X_test, y_test, color='blue')\n",
        "plt.plot(X_test,y_pred1,c='r',linestyle='solid')\n",
        "plt.show()"
      ],
      "metadata": {
        "colab": {
          "base_uri": "https://localhost:8080/",
          "height": 265
        },
        "id": "xsiAf0DyMegy",
        "outputId": "9cfbf607-68ce-4927-8594-cccb401722b0"
      },
      "execution_count": 137,
      "outputs": [
        {
          "output_type": "display_data",
          "data": {
            "text/plain": [
              "<Figure size 432x288 with 1 Axes>"
            ],
            "image/png": "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\n"
          },
          "metadata": {
            "needs_background": "light"
          }
        }
      ]
    },
    {
      "cell_type": "code",
      "source": [
        "# importing Lasso from linear_model\n",
        "from sklearn import linear_model\n",
        "from sklearn.linear_model import Lasso"
      ],
      "metadata": {
        "id": "WYrRX5mR6tr7"
      },
      "execution_count": 138,
      "outputs": []
    },
    {
      "cell_type": "code",
      "source": [
        "# fitting the model i.e. making it learn using Lasso Regression algorithm\n",
        "reg = Lasso(alpha = 0.1)\n",
        "reg.fit(X_train,y_train)"
      ],
      "metadata": {
        "colab": {
          "base_uri": "https://localhost:8080/",
          "height": 74
        },
        "id": "Hn53_TX-698R",
        "outputId": "a6049267-16fd-4762-9e95-af6e775c45fc"
      },
      "execution_count": 139,
      "outputs": [
        {
          "output_type": "execute_result",
          "data": {
            "text/plain": [
              "Lasso(alpha=0.1)"
            ],
            "text/html": [
              "<style>#sk-container-id-11 {color: black;background-color: white;}#sk-container-id-11 pre{padding: 0;}#sk-container-id-11 div.sk-toggleable {background-color: white;}#sk-container-id-11 label.sk-toggleable__label {cursor: pointer;display: block;width: 100%;margin-bottom: 0;padding: 0.3em;box-sizing: border-box;text-align: center;}#sk-container-id-11 label.sk-toggleable__label-arrow:before {content: \"▸\";float: left;margin-right: 0.25em;color: #696969;}#sk-container-id-11 label.sk-toggleable__label-arrow:hover:before {color: black;}#sk-container-id-11 div.sk-estimator:hover label.sk-toggleable__label-arrow:before {color: black;}#sk-container-id-11 div.sk-toggleable__content {max-height: 0;max-width: 0;overflow: hidden;text-align: left;background-color: #f0f8ff;}#sk-container-id-11 div.sk-toggleable__content pre {margin: 0.2em;color: black;border-radius: 0.25em;background-color: #f0f8ff;}#sk-container-id-11 input.sk-toggleable__control:checked~div.sk-toggleable__content {max-height: 200px;max-width: 100%;overflow: auto;}#sk-container-id-11 input.sk-toggleable__control:checked~label.sk-toggleable__label-arrow:before {content: \"▾\";}#sk-container-id-11 div.sk-estimator input.sk-toggleable__control:checked~label.sk-toggleable__label {background-color: #d4ebff;}#sk-container-id-11 div.sk-label input.sk-toggleable__control:checked~label.sk-toggleable__label {background-color: #d4ebff;}#sk-container-id-11 input.sk-hidden--visually {border: 0;clip: rect(1px 1px 1px 1px);clip: rect(1px, 1px, 1px, 1px);height: 1px;margin: -1px;overflow: hidden;padding: 0;position: absolute;width: 1px;}#sk-container-id-11 div.sk-estimator {font-family: monospace;background-color: #f0f8ff;border: 1px dotted black;border-radius: 0.25em;box-sizing: border-box;margin-bottom: 0.5em;}#sk-container-id-11 div.sk-estimator:hover {background-color: #d4ebff;}#sk-container-id-11 div.sk-parallel-item::after {content: \"\";width: 100%;border-bottom: 1px solid gray;flex-grow: 1;}#sk-container-id-11 div.sk-label:hover label.sk-toggleable__label {background-color: #d4ebff;}#sk-container-id-11 div.sk-serial::before {content: \"\";position: absolute;border-left: 1px solid gray;box-sizing: border-box;top: 0;bottom: 0;left: 50%;z-index: 0;}#sk-container-id-11 div.sk-serial {display: flex;flex-direction: column;align-items: center;background-color: white;padding-right: 0.2em;padding-left: 0.2em;position: relative;}#sk-container-id-11 div.sk-item {position: relative;z-index: 1;}#sk-container-id-11 div.sk-parallel {display: flex;align-items: stretch;justify-content: center;background-color: white;position: relative;}#sk-container-id-11 div.sk-item::before, #sk-container-id-11 div.sk-parallel-item::before {content: \"\";position: absolute;border-left: 1px solid gray;box-sizing: border-box;top: 0;bottom: 0;left: 50%;z-index: -1;}#sk-container-id-11 div.sk-parallel-item {display: flex;flex-direction: column;z-index: 1;position: relative;background-color: white;}#sk-container-id-11 div.sk-parallel-item:first-child::after {align-self: flex-end;width: 50%;}#sk-container-id-11 div.sk-parallel-item:last-child::after {align-self: flex-start;width: 50%;}#sk-container-id-11 div.sk-parallel-item:only-child::after {width: 0;}#sk-container-id-11 div.sk-dashed-wrapped {border: 1px dashed gray;margin: 0 0.4em 0.5em 0.4em;box-sizing: border-box;padding-bottom: 0.4em;background-color: white;}#sk-container-id-11 div.sk-label label {font-family: monospace;font-weight: bold;display: inline-block;line-height: 1.2em;}#sk-container-id-11 div.sk-label-container {text-align: center;}#sk-container-id-11 div.sk-container {/* jupyter's `normalize.less` sets `[hidden] { display: none; }` but bootstrap.min.css set `[hidden] { display: none !important; }` so we also need the `!important` here to be able to override the default hidden behavior on the sphinx rendered scikit-learn.org. See: https://github.com/scikit-learn/scikit-learn/issues/21755 */display: inline-block !important;position: relative;}#sk-container-id-11 div.sk-text-repr-fallback {display: none;}</style><div id=\"sk-container-id-11\" class=\"sk-top-container\"><div class=\"sk-text-repr-fallback\"><pre>Lasso(alpha=0.1)</pre><b>In a Jupyter environment, please rerun this cell to show the HTML representation or trust the notebook. <br />On GitHub, the HTML representation is unable to render, please try loading this page with nbviewer.org.</b></div><div class=\"sk-container\" hidden><div class=\"sk-item\"><div class=\"sk-estimator sk-toggleable\"><input class=\"sk-toggleable__control sk-hidden--visually\" id=\"sk-estimator-id-11\" type=\"checkbox\" checked><label for=\"sk-estimator-id-11\" class=\"sk-toggleable__label sk-toggleable__label-arrow\">Lasso</label><div class=\"sk-toggleable__content\"><pre>Lasso(alpha=0.1)</pre></div></div></div></div></div>"
            ]
          },
          "metadata": {},
          "execution_count": 139
        }
      ]
    },
    {
      "cell_type": "code",
      "source": [
        "#Predicting based on training data and performing evaluation metrics\n",
        "\n",
        "from sklearn.metrics import mean_absolute_error,mean_squared_error,r2_score\n",
        "y_predict = reg.predict(X_train)\n",
        "mae = mean_absolute_error(y_train,y_predict)\n",
        "mse = mean_squared_error(y_train,y_predict)\n",
        "rmse = np.sqrt(mean_squared_error(y_train,y_predict))\n",
        "r2_sc = r2_score(y_train,y_predict)\n",
        "print('Performance of model based on the training data:')\n",
        "print(f'MAE: {mae}')\n",
        "print(f'MSE: {mse}')\n",
        "print(f'RMSE: {rmse}')\n",
        "print(f'R2_Score: {r2_sc}')"
      ],
      "metadata": {
        "colab": {
          "base_uri": "https://localhost:8080/"
        },
        "id": "Kzi1HUZf7cK1",
        "outputId": "3423b328-12aa-41ea-f379-b14119a13fe9"
      },
      "execution_count": 140,
      "outputs": [
        {
          "output_type": "stream",
          "name": "stdout",
          "text": [
            "Performance of model based on the training data:\n",
            "MAE: 1.818841584221979\n",
            "MSE: 5.077961429432437\n",
            "RMSE: 2.253433253822362\n",
            "R2_Score: 0.8059410994278147\n"
          ]
        }
      ]
    },
    {
      "cell_type": "code",
      "source": [
        "#Predicting based on testing data  and performing evaluation metrics\n",
        "\n",
        "y_predict1 = reg.predict(X_test)\n",
        "mae = mean_absolute_error(y_test,y_predict1)\n",
        "mse = mean_squared_error(y_test,y_predict1)\n",
        "rmse = np.sqrt(mean_squared_error(y_test,y_predict1))\n",
        "r2_sc = r2_score(y_test,y_predict1)\n",
        "print('Performance of model based on the training data:')\n",
        "print(f'MAE: {mae}')\n",
        "print(f'MSE: {mse}')\n",
        "print(f'RMSE: {rmse}')\n",
        "print(f'R2_Score: {r2_sc}')"
      ],
      "metadata": {
        "colab": {
          "base_uri": "https://localhost:8080/"
        },
        "id": "rsR3O7Ct9P8p",
        "outputId": "d17e4f74-83b8-456e-a086-0b7713577de2"
      },
      "execution_count": 141,
      "outputs": [
        {
          "output_type": "stream",
          "name": "stdout",
          "text": [
            "Performance of model based on the training data:\n",
            "MAE: 1.8640682195228326\n",
            "MSE: 5.570088788623385\n",
            "RMSE: 2.360103554639793\n",
            "R2_Score: 0.8149986226691329\n"
          ]
        }
      ]
    },
    {
      "cell_type": "code",
      "source": [
        "# drawing a straight line for the predicted and actual outputs of testing data\n",
        "\n",
        "plt.scatter(X_test, y_test, color='blue')\n",
        "plt.plot(X_test,y_predict1,c='r',linestyle='solid')\n",
        "plt.show()"
      ],
      "metadata": {
        "colab": {
          "base_uri": "https://localhost:8080/",
          "height": 265
        },
        "id": "kHMuXFqfHVP5",
        "outputId": "cb547ab6-022c-4518-c184-92ab27fe7858"
      },
      "execution_count": 142,
      "outputs": [
        {
          "output_type": "display_data",
          "data": {
            "text/plain": [
              "<Figure size 432x288 with 1 Axes>"
            ],
            "image/png": "iVBORw0KGgoAAAANSUhEUgAAAXIAAAD4CAYAAADxeG0DAAAAOXRFWHRTb2Z0d2FyZQBNYXRwbG90bGliIHZlcnNpb24zLjcuMSwgaHR0cHM6Ly9tYXRwbG90bGliLm9yZy/bCgiHAAAACXBIWXMAAAsTAAALEwEAmpwYAAAb6UlEQVR4nO3df5BcVZUH8O+ZZBIygYJAhhgxMw0xhZUVNoQxhatr/LERCFUGhBKoAWPJ1qRYtMBfVVlTurgYkFWgYAulxiUaMy2aRVgozSIEcSNVGphAgMEIiTgTiWN+8TMOJiZz9o/7XqZ/vNf9uvv1e/e+/n6qpqb7vZ7p+6aT07fPPfdeUVUQEZG72tJuABERNYaBnIjIcQzkRESOYyAnInIcAzkRkeMmJ/lkM2fO1Fwul+RTEhE5b8uWLftUtTPsfKKBPJfLYXBwMMmnJCJynoiMVDrP1AoRkeMYyImIHMdATkTkOAZyIiLHMZATETmOgZyIKAb5PJDLAW1t5ns+n9xzJ1p+SESURfk80NcHjI2Z+yMj5j4A9PY2//nZIyciatCqVRNB3Dc2Zo4ngYGciKhBO3fWdjxuDORERA3q6qrteNwYyImIGrR6NdDRUXyso8McTwIDORFRg3p7gf5+oLsbEDHf+/uTGegEGMiJiGLR2wsMDwPr1pn7V16ZXBkiyw+JiGKSVhkie+RERDFJqwyxaiAXkTki8piI/FZEnheRa73j14vILhHZ6n0tbW5TiYjsllYZYpTUymEAX1DVp0TkOABbROQR79xtqvqt5jWPiMgdXV0mnRJ0vJmq9shVdVRVn/JuvwlgG4BTmtssIiL3pFWGWFOOXERyAM4CsNk79BkReVZE1ojIjJCf6RORQREZ3Lt3b2OtJSKyWFpliKKq0R4ociyA/wOwWlXvE5FZAPYBUAA3AJitqp+u9Dt6enqUe3YSEdVGRLaoak/Y+Ug9chFpB/ATAHlVvQ8AVHW3qh5R1XEA3wWwKI4GExFRbaJUrQiAuwFsU9VbC47PLnjYRQCG4m8eEVH90lwjPElRqlbeB+BKAM+JyFbv2JcBXC4iC2BSK8MAVjShfUREdUl7jfAkRc6Rx4E5ciJKSi4XXArY3W2m0rsklhw5EZFr0l4jPEkM5EQZ1Sr54TBprxGeJAZyogzy88MjI4DqRH64lYJ52muEJ4mBnCiD0t5D0gZprxGeJA52EmVQW5vpiZcSAcbHk28PNYaDnUQtqJXyw8RATpRJrZQfJgZyokxqpfyw9VSB0dGmPgUDOVFG+XtIjo+b7wziCdu3DzjnHDNg8fa3A9u3N+2pGMiJiOK0cqX5GNTZCWz2Vvw+91zgne9s2lMykBO1mFafKNQUb71lgrcIcPPNE8dvusl8JHroIXOuSRjIiVoIJwrFbGDABOjSkeU77zR/YL933mSsIydqIVlaSCpVYcF5+/ampFCq1ZFHWcaWiDKilRaSit3wMHDqqcHnEuwQB2FqhaiFcKJQHS680PTAS4P4LbeYAJ5yEAfYIydqKatXF2+2AHCiUCBVMxocZPdu4OSTk21PFeyRE7UQThSqYtMm84cJCuJ+79uyIA4wkBO1HFsnCqVaFnn88SaAL15cfLy/35r0SSVMrRBR6lLZX/PQIWDq1OBzBw8CU6Y06Ynjxx45EaUu0fXTv/Ut0/suDeLHHz/R+3YoiAMM5ERkgUTKIv2Zl1/6UvHxTZtM8H7ttRifbEISKSOmVogodV1dwROVGi6L/MMfgNNOCz43Pt70WZdJpYzYIyei1MW+fvqcOSZIlwbxuXMn0icJTJ1PKmXEQE5EqYutLNJPn7z8cvHx3/3OBO8dO2JrcxRJzaRlICciK1ZErLss8uc/nwjgpfze9+mnx9jS6JKaSctATtTinF0R0Q/e551XfPz8862p/U5qyz0GciJHNKvXnGjpX6MOHw7vfb/yigneGzYk364QSc2k5TK2RBbL501AHRkxgaDwv2tHRzxBoa0tuPMqYtIcVrjuOuD224PPWdDzbrZqy9iyR05kqcKUB1Aer+LqNVu9IqLf+y4N4itXWpM+sQEDOZGlglIepeKofkgqjxvZ7t3h6ZPDh03wvumm5NtlMQZyIktFCdJx9JqtWRExlzMNeNvbys/5ve9JkxJulBuqBnIRmSMij4nIb0XkeRG51jt+oog8IiLbve8zmt9cotZRLUjH2WtOdUVEv/ddOrXzpz9l+iSiKD3ywwC+oKrzAZwD4BoRmQ9gJYBHVXUegEe9+0QUk6CUh59tcH4d8Y0bq9d+X3BB8u1yVNVArqqjqvqUd/tNANsAnAJgGYC13sPWAriwSW0kaklBKY9160yMs2kd8SChpZJ+8F6ypPyH2PuuW03lhyKSA7AJwLsB7FTVE7zjAuBV/37Jz/QB6AOArq6us0eCVsYhoswoXSgKUGhYn/HFF4F585JqmrNiKz8UkWMB/ATAdar6RuE5Ne8Gge8Iqtqvqj2q2tPZ2Rn16YjIUX61zb/jK1BIcBD3e98M4rGItIytiLTDBPG8qt7nHd4tIrNVdVREZgPY06xGEpE7hkeCVxX8BT6ED+svEm5Na4hStSIA7gawTVVvLTj1IIDl3u3lAB6Iv3lE5IQ33ggdvJyGMQgUn+5mEG+WKD3y9wG4EsBzIrLVO/ZlAN8AsF5ErgIwAuATTWkhEdlrxozQnXWkINua6gSjFlA1kKvq4wDCVmD/SLzNISInhG3KcOutwOc+h3we6F5lJjV1dZkgbnOVjeu41RsRRfPkk8CiRcHnSqrfensZuJPEQE5ElVXaEo1131bgWitEFCxs5uUvf8nJO5ZhICeiCTfcUH3q/OLFybeLKmJqhYiYPnEce+RErergwfDe9+go0ycOYSAnajXvepcJ3sccU37OD95Ba4I3UbP2I20VDORErcLvfb/wQvHxpUtT7X0Xbmmnar739TGY14KBnMgisfdMt20LT58cOWIi589+1uCTNCZoS7u49iNtFRzsJLJE6fKvfs8UqGNyjUODl2Fb2sWxH2mrYI+cKEaN9Khj6ZmG9b7vuMPawcuwLe2i7EfK3LrBQE4Uk0ZzvXX3TPv7q9d+f/az0RqRgqAt7aIsssXc+gQGcqKYNNqjrrln6gfvFSvKz1na+w4StKVdlP1I6/l7Z7UHX9NWb43q6enRwcHBxJ6PKEltbcGxU8TsTl9N+RZppmdaFNRUzRMFeeYZ4Mwza263q2r9e0f6+1oqtq3eiKiyRnK9QJWe6VlnmYNBQdzvfTchiNvcg631753l6hgGcqKY1JvrLdTbCwwPmx7l8DDQe4WXPtm6tfiBU6c2NX2SzwMzZwJXXGFvDrrWv3eWq2MYyIliUm+ut8zoaPjg5YEDJqr+9a+xtDmIn4LYv7/8nE092Fr/3o1+YrIZc+REtrCk9juXM73vMFFz/rZhjpyI6lY1zxzW+/7Up+pKnwQ9Xy257mqphtIerM159EKxfWKykaom9nX22WcrUSsZGFDt6PCjsfnq6FB9/OqB4oOFXzE/X3u76pQp5W0YGAj+Hd3d4U0r/bmw6wv73VQfAINaIbYytULURKVpCg3dxxyxpE+qpUUKdXebAdVSQSkIADjpJOD224t7sGHPF/a7qT5MrRClyE9TKCQwiD9+zT2xVp/UUoER9tigFMTAALBvX3kaIsuVIC5hICdqlo9/HOMaHMDFC+3/eOdlseaVa6nAqPTYsjLIFqwECWLreAADOVHc/MHL++8vP+UF8EJx1mcH1Va3twNTphQfq7W+vZbni+t328bmtV0YyMkJtvaEjjpwILT65L7/3IXJk8oDeKG46rOD0iLf+x6wZk1zqjUyXQlSwuaZoRzsJOtZXf8bsfY7bACx9Fe5WJ/dKhpdS6cRHOwk51nZEwqr/e7uDhy8LOy5hslqXjkrbB4PYCAn69lSGfHQ135Tfdu0CjV3/gDiwEDr5JWzxObxAAZysl7qPSEveJ93/XvLTuUHtPLSsgFaKa+cJTa/bsyRk/VSy5GH5L9X4ibcjJUAOPGFksEcOTktn5/IkU+aZI41tSf01a+Gpk/80kE/iAOc+EJ2qBrIRWSNiOwRkaGCY9eLyC4R2ep9LW1uM6kVFdbtAiYN7eck6w3ioWWMfvC+4YbyH1JFrjv4k6sNA11EUXrk3wdwXsDx21R1gfe1Id5mEcVfrVI6oeOPI0cmNm4o9fTTRdUnNg90EVUN5Kq6CcArCbSFqEjc1Sr+G8N+nAiF4Agmlz/ID94LFhQdtnmgi6iRHPlnRORZL/UyI+xBItInIoMiMrh3794Gno6isn4WZERxV6sMj5gs94l4tfxkhIWroq4/QpS0egP5dwDMBbAAwCiAW8IeqKr9qtqjqj2dnZ11Ph1FZfN6ELWKJZ2xc2fo4OU0jEEQnv8mckVdgVxVd6vqEVUdB/BdAIvibRbVy8pZkHVqKJ3hB++AqZR+9clfMY15bsqEugK5iMwuuHsRgKGwx1KybJkFGZea0xlhMy+vvhpQRX5AmeemzAkY7SkmIvcA+CCAmSLyMoB/A/BBEVkAQAEMA1jRvCZSLbq6gndsyXSZ3Pr1wKWXBp8LWPOEgZuyJkrVyuWqOltV21X1Hap6t6peqapnqOqZqvoxVR1NorFUXVplcqkMsPq976AgHuOuO0S248zOjEmjTC7xAdaw9MnDDzOAU0viWivUsEQ24F2yBNi4MfgcAzdlHNdayTBb6sWbOsDq976Dgjh730QAGMidZVO9eOzLzL7+enj6ZPduBnCiEgzkjrKpXjy2AVY/eJ9wQvk5P3iffHK9zSTKLAZyR9lUL97wAGtY7/uMM9j7JoqAgdxRqe+aU6LmiTubNoUG8Py6ceS6FW1Dzzq9VgxRUhjIHeXssqp+8F68uPycN/Oyb4VYkfsncgUDuaOcW1Y1LH1yxx1F6ZN6cv+2VO8QpYV15NQ8n/88cNttwedC/t21tQWfEjFpm1Kp7edJlCDWkVPy/N53UBCvMnhZa+7fpuodorQwkDvKunTC4cPh6ZPnn49cfVJr7t+m6h2itDCQO8imyUCYNcsE7/b28nN+8J4/P/IbT625f9uqd4jSwBy5gxJZ26SaoJ43AEyfDhw4UHSomXls5sipFTBHnkGppRNeeik8fXLwoOl9lwRxoLl5bOeqd4iagIHcQUmkEwpTIUeD99y55Q/00ydTpoT+rma/8XBTZGp1DOQOavZkID9dMTwiGNeA3vcXv1jT1HnmsYmai4HcQVHTCXVVtvzgB+i9QvCXsfIAnuv2gvc3v1lTe52dhUrkCA52ZlTNg4Bhg5cwu877DwmalBO1PatWmXRKV5cJ4kyBEEVTbbCTgTyjIlW2qHpJ8HKL8UtsQvF6KIlWxRDRUaxaaVEVBxgvvdR0r4OCuLdw1WBHcRBnKoTIXgzkjgvLgwcNJCq8wcv16wNOTgxesqSPyC1MrTisUh4cMOfax17Da5gR/AtefTV4Nx4isgpTKw2ybk2TApUm2vR+qh1/GZPgIO73vhnEiTKBgbwCq9Y0CRCUB1cIhkfELGJV6PLLuW0aUUYxkFdQqcdrQ0/dz4MvwmYoBIqAEsLxcRO8f/jDZBtHRImZnHYDbBZW+eH3zP0g798Hkh0QHB4Jr/1mz5uodbBHXkHYFPJJk1LezCBk4ap/7nwA+YH60ic2fMIgovowkFcQNrX8yJHgxzd19cGvfz185UEv9/1fez5W1yeCOMcC+IZAlDwG8grC6qm7u4Mf35RFoPzg/ZWvlJ+LafAyrmVmbR4c5hsMZRnryOvQ9M0MDh0Cpk4NPrdzJzBnTgxPMqHWDY/DWLHhRQBuPkGua7iOXETWiMgeERkqOHaiiDwiItu97yEzTrIpyszHunqA8+ebXxgUxP3ed8xBHIhvmVlb98/kBs2UdVFSK98HcF7JsZUAHlXVeQAe9e63lEqbGdScYvDTJ9u2FR9/z3sSqf2Oa5lZW9cdt/UNhiguVQO5qm4C8ErJ4WUA1nq31wK4MN5muS1SD3BkJHzw8m9/M8H7iSea2k5fXGur2LruuK1vMERxqXewc5aqjnq3/wxgVtgDRaRPRAZFZHDv3r11Pp1bKvYA/eCdy5U/wO99T558NDUjAkyePPEjzRqki2O7NFsX27L1DYYoLg1XragZLQ397K+q/arao6o9nZ2djT6dEyquPFjqrrvK0ieFqRlgotzRpiqQMDbun2nrGwxRXOoN5LtFZDYAeN/3xNck9/k9wHPxUPjUeT94r1hRdiooNePjIF19bHyDIYpLvYH8QQDLvdvLATwQT3Oywd/z8iGcX34ywuBltUE4DtIRUaEo5Yf3APg1gNNF5GURuQrANwAsEZHtAP7Ju++k2CaKqIYPXm7bFsuu81HPE1FrqbpolqpeHnLqIzG3JXGlE0XqWvzqxhvDcx11lg2uXl0+gcXHQToiKtXSU/Qbmiji975LH3zBBQ3XfhcOzgFmkS6Ag3REFKylp+jXPDX99dfDd9UZGwOmTYuzeUREALjVG4DaNigOPL5woYnuQUHc7303GMS5qBMR1SvzgbzSdPmgiSIAcOCAF0j99MnTTxc/4MYbY506b/OqgURkv8ynVqqtyJfPA9deC+zfb47/HYYwhDOCf1kMf6t83qTVd+40Pf/Vq819G1cNJCI7VEutZD6QR8mD53LAz0dOx+l4MfiXxNzzLl1ONWzyT63LyBJRNrV8jrxqHlzMrvOlQXwRNqNN4l15MKxKxq9KCW0jEVEFmQ/kQXnwD079tdm4OGDyjniT6p/EotgDadiMzCNHypvCenEiiirzgbywJvsv6IBC8NjBfyh6zNCyVZjeYQK4rxmBtNIbgz8xFGC9OBHVJvOBHIcPo/cKkz7pwFvF5w4cAFTx7v/5eiKr44VVyfhUJwY4GcSJKKrsBvL1601Ubm8vP+eXDk6ffvRQEqvjlc7YDMIFsYioVtkL5P4uDJdeWnz83nsT2TatGv8NIyyYc4CTiGqVjUB+6NDE5B1/Fwbf+LgJ3hdfnE7bQnDXGiKKi9uB/KWXgnedv/jiid530LKyFuCuNUQUFzcD+bp1JvrNnVt0eB62I9etyF90b02/Lq11TrhrDRHFwZ1APjYGXHKJCeCf/OTRw7+5qv9o6eAOvLPmdUq4zgkRuc6NKfobNwJLlkzcnz0b+NWvgLlzq66lUk2jP09E1GzZmKLvD2BefbUZ2PzTn46mVcLK9aKW8TX680REaXMjkJ97rsl7fPvbZXXhkdcUR3AuvJafJyKykRuBvIKoZXxhufClS1kGSERucz6QRy3jC1t5cMMGlgESkdvcGOyMQc37cxIRWSIbg50xYC6ciLKqZQI5p8QTUVa1TCDnlHgiyqrJaTcgSb29DNxElD0t0yMnIsqqTAbytBbBIiJKg9OBPChgcxEsImo1ztaR+wG7cJJPRwcwbRqwf3/547kIFhG5qlodubODnWEzNUuP+bgIFhFlVUOBXESGAbwJ4AiAw5XeMeJWa2DmxB8iyqo4euQfUtV9MfyemnR1Ba8jftJJwFtvladcOPGHiLLK2cHOoJmaIsAnPsGJP0TUWhoN5ArgYRHZIiJ9cTQoqt5eYPny4r2VVYG1a81t7oVJRK2i0UD+flVdCOB8ANeIyAdKHyAifSIyKCKDe/fubfDpim3YUL6i4diYGQglImoVDQVyVd3lfd8D4H4AiwIe06+qPara09nZ2cjTleE2bUREDQRyEZkuIsf5twF8FMBQXA2LgkvTEhE11iOfBeBxEXkGwBMAfqaqD8XTrGi4NC0RUQPlh6r6EoC/j7EtNfMHMVetMumUri4TxDm4SUStxNmZnT4uTUtErc7ZOnIiIjIYyImIHMdATkTkOAZyIiLHMZATETmOgZyIyHEM5EREjmMgJyJyHAM5EZHjGMiJiBzHQE5E5DgGciIixzGQExE5joGciMhxDORERI5jICcichwDORGR4xjIiYgcZ30gz+eBXA5oazPf8/m0W0REZBer9+zM54G+PmBszNwfGTH3Ae7TSUTks7pHvmrVRBD3jY2Z40REZFgdyHfurO04EVErsjqQd3XVdpyIqBVZHchXrwY6OoqPdXSY40REZFgdyHt7gf5+oLsbEDHf+/s50ElEVMjqqhXABG0GbiKicFb3yImIqDoGciIixzGQExE5joGciMhxDORERI4TVU3uyUT2Ahip40dnAtgXc3PSlrVr4vXYjddjt2rX062qnWEnEw3k9RKRQVXtSbsdccraNfF67MbrsVuj18PUChGR4xjIiYgc50og70+7AU2QtWvi9diN12O3hq7HiRw5ERGFc6VHTkREIRjIiYgcZ30gF5HzROQFEdkhIivTbk89RGRYRJ4Tka0iMugdO1FEHhGR7d73GWm3M4yIrBGRPSIyVHAssP1i3OG9Xs+KyML0Wh4s5HquF5Fd3mu0VUSWFpz7V+96XhCRc9NpdTgRmSMij4nIb0XkeRG51jvu5GtU4XqcfI1E5BgReUJEnvGu52ve8VNFZLPX7h+LyBTv+FTv/g7vfK7qk6iqtV8AJgH4PYDTAEwB8AyA+Wm3q47rGAYws+TYfwBY6d1eCeDmtNtZof0fALAQwFC19gNYCuB/AQiAcwBsTrv9Ea/negBfDHjsfO/f3VQAp3r/HielfQ0lbZwNYKF3+zgAL3rtdvI1qnA9Tr5G3t/5WO92O4DN3t99PYDLvON3Abjau/0vAO7ybl8G4MfVnsP2HvkiADtU9SVVPQTgRwCWpdymuCwDsNa7vRbAhek1pTJV3QTglZLDYe1fBuAHavwGwAkiMjuRhkYUcj1hlgH4kaoeVNU/ANgB8+/SGqo6qqpPebffBLANwClw9DWqcD1hrH6NvL/zAe9uu/elAD4M4F7veOnr479u9wL4iIhIpeewPZCfAuCPBfdfRuUX1FYK4GER2SIifd6xWao66t3+M4BZ6TStbmHtd/k1+4yXalhTkOpy6nq8j+FnwfT6nH+NSq4HcPQ1EpFJIrIVwB4Aj8B8anhNVQ97Dyls89Hr8c6/DuCkSr/f9kCeFe9X1YUAzgdwjYh8oPCkms9QztaBut5+z3cAzAWwAMAogFtSbU0dRORYAD8BcJ2qvlF4zsXXKOB6nH2NVPWIqi4A8A6YTwvvivP32x7IdwGYU3D/Hd4xp6jqLu/7HgD3w7yQu/2Ps973Pem1sC5h7XfyNVPV3d5/tnEA38XER3MnrkdE2mGCXl5V7/MOO/saBV2P668RAKjqawAeA/BemJSWv91mYZuPXo93/ngA+yv9XtsD+ZMA5nmju1NgEv8PptymmojIdBE5zr8N4KMAhmCuY7n3sOUAHkinhXULa/+DAD7pVUacA+D1go/31irJEV8E8xoB5nou8yoJTgUwD8ATSbevEi9/ejeAbap6a8EpJ1+jsOtx9TUSkU4ROcG7PQ3AEpi8/2MALvEeVvr6+K/bJQB+4X2iCpf2iG6EEd+lMKPWvwewKu321NH+02BG1J8B8Lx/DTA5r0cBbAewEcCJabe1wjXcA/NR9m8wubyrwtoPM0J/p/d6PQegJ+32R7yedV57n/X+I80uePwq73peAHB+2u0PuJ73w6RNngWw1fta6uprVOF6nHyNAJwJ4Gmv3UMAvuodPw3mDWcHgP8GMNU7fox3f4d3/rRqz8Ep+kREjrM9tUJERFUwkBMROY6BnIjIcQzkRESOYyAnInIcAzkRkeMYyImIHPf/XH4vskIv2FIAAAAASUVORK5CYII=\n"
          },
          "metadata": {
            "needs_background": "light"
          }
        }
      ]
    },
    {
      "cell_type": "code",
      "source": [
        "reg.score(X_test,y_test)"
      ],
      "metadata": {
        "colab": {
          "base_uri": "https://localhost:8080/"
        },
        "id": "PMDBSf_A9PCz",
        "outputId": "48d59686-c793-48fd-8872-01c22786d242"
      },
      "execution_count": 143,
      "outputs": [
        {
          "output_type": "execute_result",
          "data": {
            "text/plain": [
              "0.8149986226691329"
            ]
          },
          "metadata": {},
          "execution_count": 143
        }
      ]
    },
    {
      "cell_type": "markdown",
      "source": [
        "***We observe that the errors are compartively less as seen above and the r2_score of the model is 0.8149986226691329 that shows that our model is a good model***\n"
      ],
      "metadata": {
        "id": "s3mUgUA-DXts"
      }
    },
    {
      "cell_type": "code",
      "source": [
        "# importing ridge from linear_model\n",
        "from sklearn import linear_model\n",
        "from sklearn.linear_model import Ridge"
      ],
      "metadata": {
        "id": "ylzggFUoGWBv"
      },
      "execution_count": 144,
      "outputs": []
    },
    {
      "cell_type": "code",
      "source": [
        "# fitting the model i.e. making it learn using Ridge Regression algorithm\n",
        "reg = Ridge(alpha = 0.1)\n",
        "reg.fit(X_train,y_train)"
      ],
      "metadata": {
        "colab": {
          "base_uri": "https://localhost:8080/",
          "height": 74
        },
        "id": "7Bin3tgJGgh-",
        "outputId": "47403e30-3979-49a6-de2c-9234d1d63618"
      },
      "execution_count": 145,
      "outputs": [
        {
          "output_type": "execute_result",
          "data": {
            "text/plain": [
              "Ridge(alpha=0.1)"
            ],
            "text/html": [
              "<style>#sk-container-id-12 {color: black;background-color: white;}#sk-container-id-12 pre{padding: 0;}#sk-container-id-12 div.sk-toggleable {background-color: white;}#sk-container-id-12 label.sk-toggleable__label {cursor: pointer;display: block;width: 100%;margin-bottom: 0;padding: 0.3em;box-sizing: border-box;text-align: center;}#sk-container-id-12 label.sk-toggleable__label-arrow:before {content: \"▸\";float: left;margin-right: 0.25em;color: #696969;}#sk-container-id-12 label.sk-toggleable__label-arrow:hover:before {color: black;}#sk-container-id-12 div.sk-estimator:hover label.sk-toggleable__label-arrow:before {color: black;}#sk-container-id-12 div.sk-toggleable__content {max-height: 0;max-width: 0;overflow: hidden;text-align: left;background-color: #f0f8ff;}#sk-container-id-12 div.sk-toggleable__content pre {margin: 0.2em;color: black;border-radius: 0.25em;background-color: #f0f8ff;}#sk-container-id-12 input.sk-toggleable__control:checked~div.sk-toggleable__content {max-height: 200px;max-width: 100%;overflow: auto;}#sk-container-id-12 input.sk-toggleable__control:checked~label.sk-toggleable__label-arrow:before {content: \"▾\";}#sk-container-id-12 div.sk-estimator input.sk-toggleable__control:checked~label.sk-toggleable__label {background-color: #d4ebff;}#sk-container-id-12 div.sk-label input.sk-toggleable__control:checked~label.sk-toggleable__label {background-color: #d4ebff;}#sk-container-id-12 input.sk-hidden--visually {border: 0;clip: rect(1px 1px 1px 1px);clip: rect(1px, 1px, 1px, 1px);height: 1px;margin: -1px;overflow: hidden;padding: 0;position: absolute;width: 1px;}#sk-container-id-12 div.sk-estimator {font-family: monospace;background-color: #f0f8ff;border: 1px dotted black;border-radius: 0.25em;box-sizing: border-box;margin-bottom: 0.5em;}#sk-container-id-12 div.sk-estimator:hover {background-color: #d4ebff;}#sk-container-id-12 div.sk-parallel-item::after {content: \"\";width: 100%;border-bottom: 1px solid gray;flex-grow: 1;}#sk-container-id-12 div.sk-label:hover label.sk-toggleable__label {background-color: #d4ebff;}#sk-container-id-12 div.sk-serial::before {content: \"\";position: absolute;border-left: 1px solid gray;box-sizing: border-box;top: 0;bottom: 0;left: 50%;z-index: 0;}#sk-container-id-12 div.sk-serial {display: flex;flex-direction: column;align-items: center;background-color: white;padding-right: 0.2em;padding-left: 0.2em;position: relative;}#sk-container-id-12 div.sk-item {position: relative;z-index: 1;}#sk-container-id-12 div.sk-parallel {display: flex;align-items: stretch;justify-content: center;background-color: white;position: relative;}#sk-container-id-12 div.sk-item::before, #sk-container-id-12 div.sk-parallel-item::before {content: \"\";position: absolute;border-left: 1px solid gray;box-sizing: border-box;top: 0;bottom: 0;left: 50%;z-index: -1;}#sk-container-id-12 div.sk-parallel-item {display: flex;flex-direction: column;z-index: 1;position: relative;background-color: white;}#sk-container-id-12 div.sk-parallel-item:first-child::after {align-self: flex-end;width: 50%;}#sk-container-id-12 div.sk-parallel-item:last-child::after {align-self: flex-start;width: 50%;}#sk-container-id-12 div.sk-parallel-item:only-child::after {width: 0;}#sk-container-id-12 div.sk-dashed-wrapped {border: 1px dashed gray;margin: 0 0.4em 0.5em 0.4em;box-sizing: border-box;padding-bottom: 0.4em;background-color: white;}#sk-container-id-12 div.sk-label label {font-family: monospace;font-weight: bold;display: inline-block;line-height: 1.2em;}#sk-container-id-12 div.sk-label-container {text-align: center;}#sk-container-id-12 div.sk-container {/* jupyter's `normalize.less` sets `[hidden] { display: none; }` but bootstrap.min.css set `[hidden] { display: none !important; }` so we also need the `!important` here to be able to override the default hidden behavior on the sphinx rendered scikit-learn.org. See: https://github.com/scikit-learn/scikit-learn/issues/21755 */display: inline-block !important;position: relative;}#sk-container-id-12 div.sk-text-repr-fallback {display: none;}</style><div id=\"sk-container-id-12\" class=\"sk-top-container\"><div class=\"sk-text-repr-fallback\"><pre>Ridge(alpha=0.1)</pre><b>In a Jupyter environment, please rerun this cell to show the HTML representation or trust the notebook. <br />On GitHub, the HTML representation is unable to render, please try loading this page with nbviewer.org.</b></div><div class=\"sk-container\" hidden><div class=\"sk-item\"><div class=\"sk-estimator sk-toggleable\"><input class=\"sk-toggleable__control sk-hidden--visually\" id=\"sk-estimator-id-12\" type=\"checkbox\" checked><label for=\"sk-estimator-id-12\" class=\"sk-toggleable__label sk-toggleable__label-arrow\">Ridge</label><div class=\"sk-toggleable__content\"><pre>Ridge(alpha=0.1)</pre></div></div></div></div></div>"
            ]
          },
          "metadata": {},
          "execution_count": 145
        }
      ]
    },
    {
      "cell_type": "code",
      "source": [
        "#Predicting based on training data and performing evaluation metrics\n",
        "\n",
        "from sklearn.metrics import mean_absolute_error,mean_squared_error,r2_score\n",
        "y_predict = reg.predict(X_train)\n",
        "mae = mean_absolute_error(y_train,y_predict)\n",
        "mse = mean_squared_error(y_train,y_predict)\n",
        "rmse = np.sqrt(mean_squared_error(y_train,y_predict))\n",
        "r2_sc = r2_score(y_train,y_predict)\n",
        "print('Performance of model based on the training data:')\n",
        "print(f'MAE: {mae}')\n",
        "print(f'MSE: {mse}')\n",
        "print(f'RMSE: {rmse}')\n",
        "print(f'R2_Score: {r2_sc}')"
      ],
      "metadata": {
        "colab": {
          "base_uri": "https://localhost:8080/"
        },
        "id": "4zcUeQ8eGoQa",
        "outputId": "c89840ef-84b8-4c86-cbd9-ca39adca5865"
      },
      "execution_count": 146,
      "outputs": [
        {
          "output_type": "stream",
          "name": "stdout",
          "text": [
            "Performance of model based on the training data:\n",
            "MAE: 1.8188280124276197\n",
            "MSE: 5.077960008991094\n",
            "RMSE: 2.253432938649627\n",
            "R2_Score: 0.8059411537112686\n"
          ]
        }
      ]
    },
    {
      "cell_type": "code",
      "source": [
        "#Predicting based on testing data  and performing evaluation metrics\n",
        "\n",
        "y_predict2 = reg.predict(X_test)\n",
        "mae = mean_absolute_error(y_test,y_predict1)\n",
        "mse = mean_squared_error(y_test,y_predict1)\n",
        "rmse = np.sqrt(mean_squared_error(y_test,y_predict1))\n",
        "r2_sc = r2_score(y_test,y_predict1)\n",
        "print('Performance of model based on the training data:')\n",
        "print(f'MAE: {mae}')\n",
        "print(f'MSE: {mse}')\n",
        "print(f'RMSE: {rmse}')\n",
        "print(f'R2_Score: {r2_sc}')"
      ],
      "metadata": {
        "colab": {
          "base_uri": "https://localhost:8080/"
        },
        "id": "mtyRHm76GyHr",
        "outputId": "a39794f0-a7a5-4279-e534-b22a42a3ae57"
      },
      "execution_count": 149,
      "outputs": [
        {
          "output_type": "stream",
          "name": "stdout",
          "text": [
            "Performance of model based on the training data:\n",
            "MAE: 1.8639439402601365\n",
            "MSE: 5.569539407683224\n",
            "RMSE: 2.3599871626098357\n",
            "R2_Score: 0.8150168694573738\n"
          ]
        }
      ]
    },
    {
      "cell_type": "code",
      "source": [
        "# drawing a straight line for the predicted and actual outputs of testing data\n",
        "\n",
        "plt.scatter(X_test, y_test, color='blue')\n",
        "plt.plot(X_test,y_predict2,c='r',linestyle='solid')\n",
        "plt.show()"
      ],
      "metadata": {
        "colab": {
          "base_uri": "https://localhost:8080/",
          "height": 265
        },
        "id": "h1_sMj4GHj5F",
        "outputId": "b7f66361-90d2-4137-906b-2329599797a7"
      },
      "execution_count": 150,
      "outputs": [
        {
          "output_type": "display_data",
          "data": {
            "text/plain": [
              "<Figure size 432x288 with 1 Axes>"
            ],
            "image/png": "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\n"
          },
          "metadata": {
            "needs_background": "light"
          }
        }
      ]
    }
  ]
}
