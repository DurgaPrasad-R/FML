{
  "nbformat": 4,
  "nbformat_minor": 0,
  "metadata": {
    "colab": {
      "provenance": [],
      "authorship_tag": "ABX9TyNXoY1Nf7H9ZrK5JN2lWNOh",
      "include_colab_link": true
    },
    "kernelspec": {
      "name": "python3",
      "display_name": "Python 3"
    },
    "language_info": {
      "name": "python"
    }
  },
  "cells": [
    {
      "cell_type": "markdown",
      "metadata": {
        "id": "view-in-github",
        "colab_type": "text"
      },
      "source": [
        "<a href=\"https://colab.research.google.com/github/DurgaPrasad-R/FML/blob/main/NLP/Tokenization.ipynb\" target=\"_parent\"><img src=\"https://colab.research.google.com/assets/colab-badge.svg\" alt=\"Open In Colab\"/></a>"
      ]
    },
    {
      "cell_type": "markdown",
      "source": [
        "**Tokenization using split() function in Python**"
      ],
      "metadata": {
        "id": "2aGaF4srBl8V"
      }
    },
    {
      "cell_type": "code",
      "source": [
        "# Word Tokenization\n",
        "text = '''\n",
        "Once upon a time, in the charming village of Willowbrook, nestled amidst lush green fields, there lived a young girl named Maya. Maya had an insatiable curiosity that danced in her eyes and a heart brimming with boundless dreams.\n",
        "One bright morning, Maya set off on a whimsical adventure into the heart of the nearby enchanted forest. As she ventured deeper, the air seemed to sparkle with hidden enchantments, and the trees whispered secrets only she could hear.\n",
        "In the depths of the forest, Maya stumbled upon a majestic waterfall cascading down a moss-covered cliff. Beside it stood an ancient oak tree, its gnarled branches stretching towards the heavens. To her astonishment, the tree's bark parted, revealing a pair of twinkling emerald eyes—a wise and magical creature known as Eldwyn.\n",
        "Eldwyn shared tales of forgotten legends, mythical creatures, and undiscovered treasures. He bestowed upon Maya a mystical locket, whispering that it held the key to unlocking her own inner magic.\n",
        "Guided by the locket's ethereal glow, Maya encountered talking woodland creatures—a mischievous squirrel, a wise old owl, and a gentle deer—who became her loyal companions on this extraordinary journey.\n",
        "Together, they braved treacherous trials and solved perplexing riddles, each challenge revealing a new facet of Maya's strength and courage. Through perseverance and kindness, she overcame adversity and brought harmony to the enchanted forest.\n",
        "In the heart of the forest, Maya stumbled upon a hidden grove bathed in shimmering moonlight. There, she discovered a chest containing precious gems—a symbol of the wisdom she had gained throughout her voyage.\n",
        "With newfound wisdom and a heart overflowing with gratitude, Maya bid farewell to her forest friends. She returned to Willowbrook, forever carrying the magic of the enchanted forest within her.\n",
        "Maya's story became a whispered legend, inspiring generations to embrace their own dreams, find courage in the face of adversity, and cherish the enchantment that lies within each and every one of us.\n",
        "'''\n",
        "\n",
        "tokens = text.split()\n",
        "\n",
        "print(tokens)\n",
        "print(\"No.of tokens : \", len(tokens))\n"
      ],
      "metadata": {
        "colab": {
          "base_uri": "https://localhost:8080/"
        },
        "id": "kK-cKtGmBuo6",
        "outputId": "a14cbf7b-a8cb-4f74-bd28-3177e1805340"
      },
      "execution_count": 4,
      "outputs": [
        {
          "output_type": "stream",
          "name": "stdout",
          "text": [
            "['Once', 'upon', 'a', 'time,', 'in', 'the', 'charming', 'village', 'of', 'Willowbrook,', 'nestled', 'amidst', 'lush', 'green', 'fields,', 'there', 'lived', 'a', 'young', 'girl', 'named', 'Maya.', 'Maya', 'had', 'an', 'insatiable', 'curiosity', 'that', 'danced', 'in', 'her', 'eyes', 'and', 'a', 'heart', 'brimming', 'with', 'boundless', 'dreams.', 'One', 'bright', 'morning,', 'Maya', 'set', 'off', 'on', 'a', 'whimsical', 'adventure', 'into', 'the', 'heart', 'of', 'the', 'nearby', 'enchanted', 'forest.', 'As', 'she', 'ventured', 'deeper,', 'the', 'air', 'seemed', 'to', 'sparkle', 'with', 'hidden', 'enchantments,', 'and', 'the', 'trees', 'whispered', 'secrets', 'only', 'she', 'could', 'hear.', 'In', 'the', 'depths', 'of', 'the', 'forest,', 'Maya', 'stumbled', 'upon', 'a', 'majestic', 'waterfall', 'cascading', 'down', 'a', 'moss-covered', 'cliff.', 'Beside', 'it', 'stood', 'an', 'ancient', 'oak', 'tree,', 'its', 'gnarled', 'branches', 'stretching', 'towards', 'the', 'heavens.', 'To', 'her', 'astonishment,', 'the', \"tree's\", 'bark', 'parted,', 'revealing', 'a', 'pair', 'of', 'twinkling', 'emerald', 'eyes—a', 'wise', 'and', 'magical', 'creature', 'known', 'as', 'Eldwyn.', 'Eldwyn', 'shared', 'tales', 'of', 'forgotten', 'legends,', 'mythical', 'creatures,', 'and', 'undiscovered', 'treasures.', 'He', 'bestowed', 'upon', 'Maya', 'a', 'mystical', 'locket,', 'whispering', 'that', 'it', 'held', 'the', 'key', 'to', 'unlocking', 'her', 'own', 'inner', 'magic.', 'Guided', 'by', 'the', \"locket's\", 'ethereal', 'glow,', 'Maya', 'encountered', 'talking', 'woodland', 'creatures—a', 'mischievous', 'squirrel,', 'a', 'wise', 'old', 'owl,', 'and', 'a', 'gentle', 'deer—who', 'became', 'her', 'loyal', 'companions', 'on', 'this', 'extraordinary', 'journey.', 'Together,', 'they', 'braved', 'treacherous', 'trials', 'and', 'solved', 'perplexing', 'riddles,', 'each', 'challenge', 'revealing', 'a', 'new', 'facet', 'of', \"Maya's\", 'strength', 'and', 'courage.', 'Through', 'perseverance', 'and', 'kindness,', 'she', 'overcame', 'adversity', 'and', 'brought', 'harmony', 'to', 'the', 'enchanted', 'forest.', 'In', 'the', 'heart', 'of', 'the', 'forest,', 'Maya', 'stumbled', 'upon', 'a', 'hidden', 'grove', 'bathed', 'in', 'shimmering', 'moonlight.', 'There,', 'she', 'discovered', 'a', 'chest', 'containing', 'precious', 'gems—a', 'symbol', 'of', 'the', 'wisdom', 'she', 'had', 'gained', 'throughout', 'her', 'voyage.', 'With', 'newfound', 'wisdom', 'and', 'a', 'heart', 'overflowing', 'with', 'gratitude,', 'Maya', 'bid', 'farewell', 'to', 'her', 'forest', 'friends.', 'She', 'returned', 'to', 'Willowbrook,', 'forever', 'carrying', 'the', 'magic', 'of', 'the', 'enchanted', 'forest', 'within', 'her.', \"Maya's\", 'story', 'became', 'a', 'whispered', 'legend,', 'inspiring', 'generations', 'to', 'embrace', 'their', 'own', 'dreams,', 'find', 'courage', 'in', 'the', 'face', 'of', 'adversity,', 'and', 'cherish', 'the', 'enchantment', 'that', 'lies', 'within', 'each', 'and', 'every', 'one', 'of', 'us.']\n",
            "No.of tokens :  320\n"
          ]
        }
      ]
    },
    {
      "cell_type": "code",
      "source": [
        "# Sentence Tokenization\n",
        "text = '''Once upon a time, in the charming village of Willowbrook, nestled amidst lush green fields, there lived a young girl named Maya. Maya had an insatiable curiosity that danced in her eyes and a heart brimming with boundless dreams.\n",
        "One bright morning, Maya set off on a whimsical adventure into the heart of the nearby enchanted forest. As she ventured deeper, the air seemed to sparkle with hidden enchantments, and the trees whispered secrets only she could hear.\n",
        "In the depths of the forest, Maya stumbled upon a majestic waterfall cascading down a moss-covered cliff. Beside it stood an ancient oak tree, its gnarled branches stretching towards the heavens. To her astonishment, the tree's bark parted, revealing a pair of twinkling emerald eyes—a wise and magical creature known as Eldwyn.\n",
        "Eldwyn shared tales of forgotten legends, mythical creatures, and undiscovered treasures. He bestowed upon Maya a mystical locket, whispering that it held the key to unlocking her own inner magic.\n",
        "Guided by the locket's ethereal glow, Maya encountered talking woodland creatures—a mischievous squirrel, a wise old owl, and a gentle deer—who became her loyal companions on this extraordinary journey.\n",
        "Together, they braved treacherous trials and solved perplexing riddles, each challenge revealing a new facet of Maya's strength and courage. Through perseverance and kindness, she overcame adversity and brought harmony to the enchanted forest.\n",
        "In the heart of the forest, Maya stumbled upon a hidden grove bathed in shimmering moonlight. There, she discovered a chest containing precious gems—a symbol of the wisdom she had gained throughout her voyage.\n",
        "With newfound wisdom and a heart overflowing with gratitude, Maya bid farewell to her forest friends. She returned to Willowbrook, forever carrying the magic of the enchanted forest within her.\n",
        "Maya's story became a whispered legend, inspiring generations to embrace their own dreams, find courage in the face of adversity, and cherish the enchantment that lies within each and every one of us.\n",
        "'''\n",
        "\n",
        "sentences = text.split('.')\n",
        "print(sentences)\n",
        "print(\"No.of sentences : \", len(sentences))"
      ],
      "metadata": {
        "colab": {
          "base_uri": "https://localhost:8080/"
        },
        "id": "5bxmKRGGCB-7",
        "outputId": "2bb85101-58ae-4f19-8248-f1180e1f03cd"
      },
      "execution_count": 6,
      "outputs": [
        {
          "output_type": "stream",
          "name": "stdout",
          "text": [
            "['Once upon a time, in the charming village of Willowbrook, nestled amidst lush green fields, there lived a young girl named Maya', ' Maya had an insatiable curiosity that danced in her eyes and a heart brimming with boundless dreams', '\\nOne bright morning, Maya set off on a whimsical adventure into the heart of the nearby enchanted forest', ' As she ventured deeper, the air seemed to sparkle with hidden enchantments, and the trees whispered secrets only she could hear', '\\nIn the depths of the forest, Maya stumbled upon a majestic waterfall cascading down a moss-covered cliff', ' Beside it stood an ancient oak tree, its gnarled branches stretching towards the heavens', \" To her astonishment, the tree's bark parted, revealing a pair of twinkling emerald eyes—a wise and magical creature known as Eldwyn\", '\\nEldwyn shared tales of forgotten legends, mythical creatures, and undiscovered treasures', ' He bestowed upon Maya a mystical locket, whispering that it held the key to unlocking her own inner magic', \"\\nGuided by the locket's ethereal glow, Maya encountered talking woodland creatures—a mischievous squirrel, a wise old owl, and a gentle deer—who became her loyal companions on this extraordinary journey\", \"\\nTogether, they braved treacherous trials and solved perplexing riddles, each challenge revealing a new facet of Maya's strength and courage\", ' Through perseverance and kindness, she overcame adversity and brought harmony to the enchanted forest', '\\nIn the heart of the forest, Maya stumbled upon a hidden grove bathed in shimmering moonlight', ' There, she discovered a chest containing precious gems—a symbol of the wisdom she had gained throughout her voyage', '\\nWith newfound wisdom and a heart overflowing with gratitude, Maya bid farewell to her forest friends', ' She returned to Willowbrook, forever carrying the magic of the enchanted forest within her', \"\\nMaya's story became a whispered legend, inspiring generations to embrace their own dreams, find courage in the face of adversity, and cherish the enchantment that lies within each and every one of us\", '\\n']\n",
            "No.of sentences :  18\n"
          ]
        }
      ]
    },
    {
      "cell_type": "markdown",
      "source": [
        "**Tokenization using Regular Expressions (RegEx)**"
      ],
      "metadata": {
        "id": "IF17uza_C8bC"
      }
    },
    {
      "cell_type": "code",
      "source": [
        "import re\n",
        "# word tokenization\n",
        "tokens = re.findall(\"[\\w']+\", text)  \n",
        "print(tokens)\n",
        "print(\"No.of tokens : \", len(tokens))"
      ],
      "metadata": {
        "colab": {
          "base_uri": "https://localhost:8080/"
        },
        "id": "NCxXZnplCFyJ",
        "outputId": "ae633626-bcfa-478f-8bb6-268c12852e22"
      },
      "execution_count": 9,
      "outputs": [
        {
          "output_type": "stream",
          "name": "stdout",
          "text": [
            "['Once', 'upon', 'a', 'time', 'in', 'the', 'charming', 'village', 'of', 'Willowbrook', 'nestled', 'amidst', 'lush', 'green', 'fields', 'there', 'lived', 'a', 'young', 'girl', 'named', 'Maya', 'Maya', 'had', 'an', 'insatiable', 'curiosity', 'that', 'danced', 'in', 'her', 'eyes', 'and', 'a', 'heart', 'brimming', 'with', 'boundless', 'dreams', 'One', 'bright', 'morning', 'Maya', 'set', 'off', 'on', 'a', 'whimsical', 'adventure', 'into', 'the', 'heart', 'of', 'the', 'nearby', 'enchanted', 'forest', 'As', 'she', 'ventured', 'deeper', 'the', 'air', 'seemed', 'to', 'sparkle', 'with', 'hidden', 'enchantments', 'and', 'the', 'trees', 'whispered', 'secrets', 'only', 'she', 'could', 'hear', 'In', 'the', 'depths', 'of', 'the', 'forest', 'Maya', 'stumbled', 'upon', 'a', 'majestic', 'waterfall', 'cascading', 'down', 'a', 'moss', 'covered', 'cliff', 'Beside', 'it', 'stood', 'an', 'ancient', 'oak', 'tree', 'its', 'gnarled', 'branches', 'stretching', 'towards', 'the', 'heavens', 'To', 'her', 'astonishment', 'the', \"tree's\", 'bark', 'parted', 'revealing', 'a', 'pair', 'of', 'twinkling', 'emerald', 'eyes', 'a', 'wise', 'and', 'magical', 'creature', 'known', 'as', 'Eldwyn', 'Eldwyn', 'shared', 'tales', 'of', 'forgotten', 'legends', 'mythical', 'creatures', 'and', 'undiscovered', 'treasures', 'He', 'bestowed', 'upon', 'Maya', 'a', 'mystical', 'locket', 'whispering', 'that', 'it', 'held', 'the', 'key', 'to', 'unlocking', 'her', 'own', 'inner', 'magic', 'Guided', 'by', 'the', \"locket's\", 'ethereal', 'glow', 'Maya', 'encountered', 'talking', 'woodland', 'creatures', 'a', 'mischievous', 'squirrel', 'a', 'wise', 'old', 'owl', 'and', 'a', 'gentle', 'deer', 'who', 'became', 'her', 'loyal', 'companions', 'on', 'this', 'extraordinary', 'journey', 'Together', 'they', 'braved', 'treacherous', 'trials', 'and', 'solved', 'perplexing', 'riddles', 'each', 'challenge', 'revealing', 'a', 'new', 'facet', 'of', \"Maya's\", 'strength', 'and', 'courage', 'Through', 'perseverance', 'and', 'kindness', 'she', 'overcame', 'adversity', 'and', 'brought', 'harmony', 'to', 'the', 'enchanted', 'forest', 'In', 'the', 'heart', 'of', 'the', 'forest', 'Maya', 'stumbled', 'upon', 'a', 'hidden', 'grove', 'bathed', 'in', 'shimmering', 'moonlight', 'There', 'she', 'discovered', 'a', 'chest', 'containing', 'precious', 'gems', 'a', 'symbol', 'of', 'the', 'wisdom', 'she', 'had', 'gained', 'throughout', 'her', 'voyage', 'With', 'newfound', 'wisdom', 'and', 'a', 'heart', 'overflowing', 'with', 'gratitude', 'Maya', 'bid', 'farewell', 'to', 'her', 'forest', 'friends', 'She', 'returned', 'to', 'Willowbrook', 'forever', 'carrying', 'the', 'magic', 'of', 'the', 'enchanted', 'forest', 'within', 'her', \"Maya's\", 'story', 'became', 'a', 'whispered', 'legend', 'inspiring', 'generations', 'to', 'embrace', 'their', 'own', 'dreams', 'find', 'courage', 'in', 'the', 'face', 'of', 'adversity', 'and', 'cherish', 'the', 'enchantment', 'that', 'lies', 'within', 'each', 'and', 'every', 'one', 'of', 'us']\n",
            "No.of tokens :  325\n"
          ]
        }
      ]
    },
    {
      "cell_type": "code",
      "source": [
        "#sentence tokenization\n",
        "sentences = re.compile('[.?!] ').split(text)\n",
        "print(sentences)\n",
        "print(\"No.of sentences : \", len(sentences))"
      ],
      "metadata": {
        "colab": {
          "base_uri": "https://localhost:8080/"
        },
        "id": "7WdUUDxXDlrD",
        "outputId": "25389ca6-758e-4a61-ca56-7e7f651044f9"
      },
      "execution_count": 10,
      "outputs": [
        {
          "output_type": "stream",
          "name": "stdout",
          "text": [
            "['Once upon a time, in the charming village of Willowbrook, nestled amidst lush green fields, there lived a young girl named Maya', 'Maya had an insatiable curiosity that danced in her eyes and a heart brimming with boundless dreams.\\nOne bright morning, Maya set off on a whimsical adventure into the heart of the nearby enchanted forest', 'As she ventured deeper, the air seemed to sparkle with hidden enchantments, and the trees whispered secrets only she could hear.\\nIn the depths of the forest, Maya stumbled upon a majestic waterfall cascading down a moss-covered cliff', 'Beside it stood an ancient oak tree, its gnarled branches stretching towards the heavens', \"To her astonishment, the tree's bark parted, revealing a pair of twinkling emerald eyes—a wise and magical creature known as Eldwyn.\\nEldwyn shared tales of forgotten legends, mythical creatures, and undiscovered treasures\", \"He bestowed upon Maya a mystical locket, whispering that it held the key to unlocking her own inner magic.\\nGuided by the locket's ethereal glow, Maya encountered talking woodland creatures—a mischievous squirrel, a wise old owl, and a gentle deer—who became her loyal companions on this extraordinary journey.\\nTogether, they braved treacherous trials and solved perplexing riddles, each challenge revealing a new facet of Maya's strength and courage\", 'Through perseverance and kindness, she overcame adversity and brought harmony to the enchanted forest.\\nIn the heart of the forest, Maya stumbled upon a hidden grove bathed in shimmering moonlight', 'There, she discovered a chest containing precious gems—a symbol of the wisdom she had gained throughout her voyage.\\nWith newfound wisdom and a heart overflowing with gratitude, Maya bid farewell to her forest friends', \"She returned to Willowbrook, forever carrying the magic of the enchanted forest within her.\\nMaya's story became a whispered legend, inspiring generations to embrace their own dreams, find courage in the face of adversity, and cherish the enchantment that lies within each and every one of us.\\n\"]\n",
            "No.of sentences :  9\n"
          ]
        }
      ]
    },
    {
      "cell_type": "markdown",
      "source": [
        "**Tokenization using NLTK**"
      ],
      "metadata": {
        "id": "S_xVibIHERfO"
      }
    },
    {
      "cell_type": "code",
      "source": [
        "!pip install nltk"
      ],
      "metadata": {
        "colab": {
          "base_uri": "https://localhost:8080/"
        },
        "id": "E57yAI2FEu83",
        "outputId": "3ff11ebf-7aef-4fc4-b8c6-af9916200c99"
      },
      "execution_count": 13,
      "outputs": [
        {
          "output_type": "stream",
          "name": "stdout",
          "text": [
            "Looking in indexes: https://pypi.org/simple, https://us-python.pkg.dev/colab-wheels/public/simple/\n",
            "Requirement already satisfied: nltk in /usr/local/lib/python3.10/dist-packages (3.8.1)\n",
            "Requirement already satisfied: click in /usr/local/lib/python3.10/dist-packages (from nltk) (8.1.3)\n",
            "Requirement already satisfied: joblib in /usr/local/lib/python3.10/dist-packages (from nltk) (1.2.0)\n",
            "Requirement already satisfied: regex>=2021.8.3 in /usr/local/lib/python3.10/dist-packages (from nltk) (2022.10.31)\n",
            "Requirement already satisfied: tqdm in /usr/local/lib/python3.10/dist-packages (from nltk) (4.65.0)\n"
          ]
        }
      ]
    },
    {
      "cell_type": "code",
      "source": [
        "import nltk\n",
        "nltk.download('punkt')"
      ],
      "metadata": {
        "colab": {
          "base_uri": "https://localhost:8080/"
        },
        "id": "YgocOdi9E12V",
        "outputId": "03f24508-a522-4176-95cc-65ddda4ae8bb"
      },
      "execution_count": 14,
      "outputs": [
        {
          "output_type": "stream",
          "name": "stderr",
          "text": [
            "[nltk_data] Downloading package punkt to /root/nltk_data...\n",
            "[nltk_data]   Unzipping tokenizers/punkt.zip.\n"
          ]
        },
        {
          "output_type": "execute_result",
          "data": {
            "text/plain": [
              "True"
            ]
          },
          "metadata": {},
          "execution_count": 14
        }
      ]
    },
    {
      "cell_type": "code",
      "source": [
        "# word tokenization\n",
        "from nltk.tokenize import word_tokenize \n",
        "tokens = word_tokenize(text)\n",
        "print(tokens)\n",
        "print(\"No.of tokens : \", len(tokens))"
      ],
      "metadata": {
        "colab": {
          "base_uri": "https://localhost:8080/"
        },
        "id": "g-mTBsbfEVkl",
        "outputId": "001dfb97-98cc-49f0-d7c9-984581e37f57"
      },
      "execution_count": 15,
      "outputs": [
        {
          "output_type": "stream",
          "name": "stdout",
          "text": [
            "['Once', 'upon', 'a', 'time', ',', 'in', 'the', 'charming', 'village', 'of', 'Willowbrook', ',', 'nestled', 'amidst', 'lush', 'green', 'fields', ',', 'there', 'lived', 'a', 'young', 'girl', 'named', 'Maya', '.', 'Maya', 'had', 'an', 'insatiable', 'curiosity', 'that', 'danced', 'in', 'her', 'eyes', 'and', 'a', 'heart', 'brimming', 'with', 'boundless', 'dreams', '.', 'One', 'bright', 'morning', ',', 'Maya', 'set', 'off', 'on', 'a', 'whimsical', 'adventure', 'into', 'the', 'heart', 'of', 'the', 'nearby', 'enchanted', 'forest', '.', 'As', 'she', 'ventured', 'deeper', ',', 'the', 'air', 'seemed', 'to', 'sparkle', 'with', 'hidden', 'enchantments', ',', 'and', 'the', 'trees', 'whispered', 'secrets', 'only', 'she', 'could', 'hear', '.', 'In', 'the', 'depths', 'of', 'the', 'forest', ',', 'Maya', 'stumbled', 'upon', 'a', 'majestic', 'waterfall', 'cascading', 'down', 'a', 'moss-covered', 'cliff', '.', 'Beside', 'it', 'stood', 'an', 'ancient', 'oak', 'tree', ',', 'its', 'gnarled', 'branches', 'stretching', 'towards', 'the', 'heavens', '.', 'To', 'her', 'astonishment', ',', 'the', 'tree', \"'s\", 'bark', 'parted', ',', 'revealing', 'a', 'pair', 'of', 'twinkling', 'emerald', 'eyes—a', 'wise', 'and', 'magical', 'creature', 'known', 'as', 'Eldwyn', '.', 'Eldwyn', 'shared', 'tales', 'of', 'forgotten', 'legends', ',', 'mythical', 'creatures', ',', 'and', 'undiscovered', 'treasures', '.', 'He', 'bestowed', 'upon', 'Maya', 'a', 'mystical', 'locket', ',', 'whispering', 'that', 'it', 'held', 'the', 'key', 'to', 'unlocking', 'her', 'own', 'inner', 'magic', '.', 'Guided', 'by', 'the', 'locket', \"'s\", 'ethereal', 'glow', ',', 'Maya', 'encountered', 'talking', 'woodland', 'creatures—a', 'mischievous', 'squirrel', ',', 'a', 'wise', 'old', 'owl', ',', 'and', 'a', 'gentle', 'deer—who', 'became', 'her', 'loyal', 'companions', 'on', 'this', 'extraordinary', 'journey', '.', 'Together', ',', 'they', 'braved', 'treacherous', 'trials', 'and', 'solved', 'perplexing', 'riddles', ',', 'each', 'challenge', 'revealing', 'a', 'new', 'facet', 'of', 'Maya', \"'s\", 'strength', 'and', 'courage', '.', 'Through', 'perseverance', 'and', 'kindness', ',', 'she', 'overcame', 'adversity', 'and', 'brought', 'harmony', 'to', 'the', 'enchanted', 'forest', '.', 'In', 'the', 'heart', 'of', 'the', 'forest', ',', 'Maya', 'stumbled', 'upon', 'a', 'hidden', 'grove', 'bathed', 'in', 'shimmering', 'moonlight', '.', 'There', ',', 'she', 'discovered', 'a', 'chest', 'containing', 'precious', 'gems—a', 'symbol', 'of', 'the', 'wisdom', 'she', 'had', 'gained', 'throughout', 'her', 'voyage', '.', 'With', 'newfound', 'wisdom', 'and', 'a', 'heart', 'overflowing', 'with', 'gratitude', ',', 'Maya', 'bid', 'farewell', 'to', 'her', 'forest', 'friends', '.', 'She', 'returned', 'to', 'Willowbrook', ',', 'forever', 'carrying', 'the', 'magic', 'of', 'the', 'enchanted', 'forest', 'within', 'her', '.', 'Maya', \"'s\", 'story', 'became', 'a', 'whispered', 'legend', ',', 'inspiring', 'generations', 'to', 'embrace', 'their', 'own', 'dreams', ',', 'find', 'courage', 'in', 'the', 'face', 'of', 'adversity', ',', 'and', 'cherish', 'the', 'enchantment', 'that', 'lies', 'within', 'each', 'and', 'every', 'one', 'of', 'us', '.']\n",
            "No.of tokens :  367\n"
          ]
        }
      ]
    },
    {
      "cell_type": "code",
      "source": [
        "#sentence tokenization\n",
        "from nltk.tokenize import sent_tokenize\n",
        "sentences = sent_tokenize(text)\n",
        "print(sentences)\n",
        "print(\"No.of sentences : \", len(sentences))"
      ],
      "metadata": {
        "colab": {
          "base_uri": "https://localhost:8080/"
        },
        "id": "qJajzOH_Fe5W",
        "outputId": "f8986c7e-4869-40d8-d1b9-9758cb900413"
      },
      "execution_count": 16,
      "outputs": [
        {
          "output_type": "stream",
          "name": "stdout",
          "text": [
            "['Once upon a time, in the charming village of Willowbrook, nestled amidst lush green fields, there lived a young girl named Maya.', 'Maya had an insatiable curiosity that danced in her eyes and a heart brimming with boundless dreams.', 'One bright morning, Maya set off on a whimsical adventure into the heart of the nearby enchanted forest.', 'As she ventured deeper, the air seemed to sparkle with hidden enchantments, and the trees whispered secrets only she could hear.', 'In the depths of the forest, Maya stumbled upon a majestic waterfall cascading down a moss-covered cliff.', 'Beside it stood an ancient oak tree, its gnarled branches stretching towards the heavens.', \"To her astonishment, the tree's bark parted, revealing a pair of twinkling emerald eyes—a wise and magical creature known as Eldwyn.\", 'Eldwyn shared tales of forgotten legends, mythical creatures, and undiscovered treasures.', 'He bestowed upon Maya a mystical locket, whispering that it held the key to unlocking her own inner magic.', \"Guided by the locket's ethereal glow, Maya encountered talking woodland creatures—a mischievous squirrel, a wise old owl, and a gentle deer—who became her loyal companions on this extraordinary journey.\", \"Together, they braved treacherous trials and solved perplexing riddles, each challenge revealing a new facet of Maya's strength and courage.\", 'Through perseverance and kindness, she overcame adversity and brought harmony to the enchanted forest.', 'In the heart of the forest, Maya stumbled upon a hidden grove bathed in shimmering moonlight.', 'There, she discovered a chest containing precious gems—a symbol of the wisdom she had gained throughout her voyage.', 'With newfound wisdom and a heart overflowing with gratitude, Maya bid farewell to her forest friends.', 'She returned to Willowbrook, forever carrying the magic of the enchanted forest within her.', \"Maya's story became a whispered legend, inspiring generations to embrace their own dreams, find courage in the face of adversity, and cherish the enchantment that lies within each and every one of us.\"]\n",
            "No.of sentences :  17\n"
          ]
        }
      ]
    }
  ]
}