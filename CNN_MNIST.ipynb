{
  "nbformat": 4,
  "nbformat_minor": 0,
  "metadata": {
    "colab": {
      "provenance": [],
      "mount_file_id": "1vtCElxNstHi8IWEtFQjU3k-804SlKTAe",
      "authorship_tag": "ABX9TyP6wUZywwOdd6Xpv2FegEZV",
      "include_colab_link": true
    },
    "kernelspec": {
      "name": "python3",
      "display_name": "Python 3"
    },
    "language_info": {
      "name": "python"
    }
  },
  "cells": [
    {
      "cell_type": "markdown",
      "metadata": {
        "id": "view-in-github",
        "colab_type": "text"
      },
      "source": [
        "<a href=\"https://colab.research.google.com/github/DurgaPrasad-R/FML/blob/main/CNN_MNIST.ipynb\" target=\"_parent\"><img src=\"https://colab.research.google.com/assets/colab-badge.svg\" alt=\"Open In Colab\"/></a>"
      ]
    },
    {
      "cell_type": "code",
      "source": [
        "import torch\n",
        "import torch.nn as nn\n",
        "import torch.optim as optim\n",
        "import torch.nn.functional as F\n",
        "from torchvision import datasets, transforms\n",
        "\n",
        "# Define the CNN architecture using nn.Sequential\n",
        "model = nn.Sequential(\n",
        "    nn.Conv2d(1, 32, 3, padding=1),\n",
        "    nn.ReLU(),\n",
        "    nn.MaxPool2d(2, 2),\n",
        "    nn.Conv2d(32, 64, 3, padding=1),\n",
        "    nn.ReLU(),\n",
        "    nn.MaxPool2d(2, 2),\n",
        "    nn.Flatten(),\n",
        "    nn.Linear(64 * 7 * 7, 128),\n",
        "    nn.ReLU(),\n",
        "    nn.Linear(128, 10)\n",
        ")\n",
        "\n",
        "# Initialize the weights using kaiming initialization\n",
        "for module in model.modules():\n",
        "    if isinstance(module, nn.Conv2d) or isinstance(module, nn.Linear):\n",
        "        nn.init.kaiming_uniform_(module.weight, mode='fan_in', nonlinearity='relu')\n",
        "\n",
        "# Set up the optimizer and learning rate scheduler\n",
        "optimizer = optim.SGD(model.parameters(), lr=0.01, momentum=0.9)\n",
        "lr_scheduler = optim.lr_scheduler.StepLR(optimizer, step_size=1, gamma=0.5)\n",
        "\n",
        "# Set up the data loader\n",
        "transform = transforms.Compose([transforms.ToTensor(), transforms.Normalize((0.5,), (0.5,))])\n",
        "train_dataset = datasets.MNIST(root='./data', train=True, download=True, transform=transform)\n",
        "train_loader = torch.utils.data.DataLoader(train_dataset, batch_size=64, shuffle=True)\n",
        "test_dataset = datasets.MNIST(root='./data', train=False, download=True, transform=transform)\n",
        "test_loader = torch.utils.data.DataLoader(test_dataset, batch_size=64, shuffle=True)\n",
        "\n",
        "# Train the model\n",
        "num_epochs = 10\n",
        "for epoch in range(num_epochs):\n",
        "    train_loss = 0.0\n",
        "    train_correct = 0\n",
        "    model.train()\n",
        "    for data, target in train_loader:\n",
        "        optimizer.zero_grad()\n",
        "        output = model(data)\n",
        "        loss = F.cross_entropy(output, target)\n",
        "        loss.backward()\n",
        "        optimizer.step()\n",
        "\n",
        "        train_loss += loss.item() * data.size(0)\n",
        "        train_correct += torch.sum(torch.argmax(output, dim=1) == target).item()\n",
        "\n",
        "    # Compute the average train loss and accuracy for the epoch\n",
        "    train_loss /= len(train_loader.dataset)\n",
        "    train_accuracy = train_correct / len(train_loader.dataset)\n",
        "\n",
        "    # Update the learning rate\n",
        "    lr_scheduler.step()\n",
        "\n",
        "    # Test the model\n",
        "    model.eval()\n",
        "    test_loss = 0.0\n",
        "    test_correct = 0\n",
        "    with torch.no_grad():\n",
        "        for data, target in test_loader:\n",
        "            output = model(data)\n",
        "            loss = F.cross_entropy(output, target)\n",
        "            test_loss += loss.item() * data.size(0)\n",
        "            test_correct += torch.sum(torch.argmax(output, dim=1) == target).item()\n",
        "\n",
        "        # Compute the average test loss and accuracy for the epoch\n",
        "        test_loss /= len(test_loader.dataset)\n",
        "        test_accuracy = test_correct / len(test_loader.dataset)\n",
        "\n",
        "    # Print the training and test statistics for the epoch\n",
        "    print(f'Epoch [{epoch+1}/{num_epochs}], Train Loss: {train_loss:.4f}, Train Accuracy: {train_accuracy:.4f}, Test Loss: {test_loss:.4f}, Test Accuracy: {test_accuracy:.4f}')\n"
      ],
      "metadata": {
        "id": "Lv5qN8c6M769",
        "colab": {
          "base_uri": "https://localhost:8080/"
        },
        "outputId": "93f166ce-bdc7-4b81-fadc-d3cbc9454ecd"
      },
      "execution_count": 5,
      "outputs": [
        {
          "output_type": "stream",
          "name": "stdout",
          "text": [
            "Epoch [1/10], Train Loss: 0.1827, Train Accuracy: 0.9477, Test Loss: 0.0492, Test Accuracy: 0.9842\n",
            "Epoch [2/10], Train Loss: 0.0419, Train Accuracy: 0.9875, Test Loss: 0.0379, Test Accuracy: 0.9870\n",
            "Epoch [3/10], Train Loss: 0.0294, Train Accuracy: 0.9910, Test Loss: 0.0354, Test Accuracy: 0.9877\n",
            "Epoch [4/10], Train Loss: 0.0243, Train Accuracy: 0.9927, Test Loss: 0.0323, Test Accuracy: 0.9892\n",
            "Epoch [5/10], Train Loss: 0.0219, Train Accuracy: 0.9938, Test Loss: 0.0310, Test Accuracy: 0.9890\n",
            "Epoch [6/10], Train Loss: 0.0207, Train Accuracy: 0.9942, Test Loss: 0.0320, Test Accuracy: 0.9891\n",
            "Epoch [7/10], Train Loss: 0.0201, Train Accuracy: 0.9944, Test Loss: 0.0320, Test Accuracy: 0.9888\n",
            "Epoch [8/10], Train Loss: 0.0199, Train Accuracy: 0.9944, Test Loss: 0.0318, Test Accuracy: 0.9888\n",
            "Epoch [9/10], Train Loss: 0.0197, Train Accuracy: 0.9946, Test Loss: 0.0316, Test Accuracy: 0.9888\n",
            "Epoch [10/10], Train Loss: 0.0196, Train Accuracy: 0.9946, Test Loss: 0.0316, Test Accuracy: 0.9888\n"
          ]
        }
      ]
    },
    {
      "cell_type": "code",
      "source": [
        "from google.colab import drive\n",
        "drive.mount('/content/drive')"
      ],
      "metadata": {
        "colab": {
          "base_uri": "https://localhost:8080/"
        },
        "id": "BzR1YrfL6EKK",
        "outputId": "8a4cac06-1799-45da-ff42-04341372fef4"
      },
      "execution_count": null,
      "outputs": [
        {
          "output_type": "stream",
          "name": "stdout",
          "text": [
            "Drive already mounted at /content/drive; to attempt to forcibly remount, call drive.mount(\"/content/drive\", force_remount=True).\n"
          ]
        }
      ]
    },
    {
      "cell_type": "code",
      "source": [
        "torch.save(model.state_dict(), 'mnist_cnn.pt')"
      ],
      "metadata": {
        "id": "9Bm1MjBISeQs"
      },
      "execution_count": 6,
      "outputs": []
    },
    {
      "cell_type": "code",
      "source": [
        "import matplotlib.pyplot as plt"
      ],
      "metadata": {
        "id": "1qgrmOufZiyH"
      },
      "execution_count": 7,
      "outputs": []
    },
    {
      "cell_type": "code",
      "source": [
        "import torch\n",
        "import torchvision.transforms as transforms\n",
        "from PIL import Image\n",
        "\n",
        "# define the model architecture\n",
        "model = nn.Sequential(\n",
        "    nn.Conv2d(1, 32, kernel_size=3, stride=1, padding=1),\n",
        "    nn.ReLU(),\n",
        "    nn.MaxPool2d(kernel_size=2, stride=2),\n",
        "    nn.Conv2d(32, 64, kernel_size=3, stride=1, padding=1),\n",
        "    nn.ReLU(),\n",
        "    nn.MaxPool2d(kernel_size=2, stride=2),\n",
        "    nn.Flatten(),\n",
        "    nn.Linear(7*7*64, 128),\n",
        "    nn.ReLU(),\n",
        "    nn.Linear(128, 10)\n",
        ")\n",
        "\n",
        "# load the saved state dict\n",
        "state_dict = torch.load('mnist_cnn.pt', map_location=torch.device('cpu'))\n",
        "model.load_state_dict(state_dict)\n",
        "\n",
        "\n",
        "\n",
        "# Load the image and apply transformations\n",
        "image = Image.open('/content/drive/MyDrive/Datasets/7.jpg').convert('L')  # convert to grayscale\n",
        "\n",
        "transform = transforms.Compose([\n",
        "    transforms.Resize((28, 28)),\n",
        "    transforms.ToTensor(),\n",
        "    transforms.Normalize((0.5,), (0.5,))\n",
        "])\n",
        "image = transform(image).unsqueeze(0)  # add batch dimension\n",
        "\n",
        "\n",
        "# Make prediction\n",
        "with torch.no_grad():\n",
        "    output = model(image)\n",
        "\n",
        "prediction = torch.argmax(output, dim=1).item()\n",
        "print(f\"The predicted digit is {prediction}.\")\n"
      ],
      "metadata": {
        "colab": {
          "base_uri": "https://localhost:8080/"
        },
        "id": "pnWPAyjOQfr0",
        "outputId": "f091091a-4ce6-432b-8fc2-2ea42ba937e6"
      },
      "execution_count": 15,
      "outputs": [
        {
          "output_type": "stream",
          "name": "stdout",
          "text": [
            "The predicted digit is 7.\n"
          ]
        }
      ]
    }
  ]
}